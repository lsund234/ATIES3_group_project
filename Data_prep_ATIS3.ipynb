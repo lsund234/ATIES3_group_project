{
 "cells": [
  {
   "cell_type": "code",
   "execution_count": 1,
   "id": "ce9bd170",
   "metadata": {},
   "outputs": [],
   "source": [
    "import numpy as np\n",
    "import pandas as pd\n",
    "import seaborn as sns\n",
    "import openpyxl as pxl\n",
    "path=\"C:/Users/diersh/OneDrive - EWI an der Universität zu Köln/Dokumente/Promotion/ATIS3/data/\""
   ]
  },
  {
   "cell_type": "markdown",
   "id": "ef9c6917",
   "metadata": {},
   "source": [
    "## Prep time series data"
   ]
  },
  {
   "cell_type": "code",
   "execution_count": 2,
   "id": "25f69578",
   "metadata": {},
   "outputs": [
    {
     "name": "stderr",
     "output_type": "stream",
     "text": [
      "C:\\Users\\diersh\\Anaconda3\\lib\\site-packages\\IPython\\core\\interactiveshell.py:3165: DtypeWarning: Columns (0) have mixed types.Specify dtype option on import or set low_memory=False.\n",
      "  has_raised = await self.run_ast_nodes(code_ast.body, cell_name,\n"
     ]
    }
   ],
   "source": [
    "df1=pd.read_csv(path+\"Data_15min_TransnetBW.csv\")\n",
    "df1[\"Begin\"]=df1[\"Begin\"].map(lambda x: pd.to_datetime(x.strip(), format='%d.%m.%Y %H:%M'))\n",
    "df1.set_index(\"Begin\", inplace=True)\n",
    "df1=df1.resample(\"H\").mean()\n",
    "df1.drop(columns=[\"Unnamed: 0\"], inplace=True)\n",
    "df3=pd.read_csv(path+\"data_60min.csv\")\n",
    "df3[\"Begin\"]=df3[\"Begin\"].map(lambda x: pd.to_datetime(str(x)[:-9].strip(), format='%Y-%m-%d %H:%M'))\n",
    "df3.set_index(\"Begin\", inplace=True)\n",
    "df3=df3[['DA_Price', 'auc_15min_hour_price', 'ID3_price', 'FC_DA_Load', \n",
    "       'Total_load','Prognose_Wind', 'Ist_Wind', 'Prognose_PV', 'Ist_PV']]  #only use relavant variables\n",
    "df1[\"merge\"]=range(len(df1)) # support variable\n",
    "df3[\"merge\"]=range(len(df3)) # support variable\n",
    "ix=df3.index  # save index for later\n",
    "df3=df3.merge(df1, on=\"merge\")\n",
    "df3.index=ix\n",
    "df3.drop(columns=[\"merge\"], inplace=True)\n",
    "# simplyfy labels\n",
    "df3.rename(columns={'DA_Price': \"p_da\", 'auc_15min_hour_price': \"p_15\", 'ID3_price':\"p_id3\", 'FC_DA_Load':\"fc_load_de\",\n",
    "'Total_load':\"ist_load_de\", 'Prognose_Wind':\"fc_wind_de\", 'Ist_Wind':\"ist_wind_de\", 'Prognose_PV':\"fc_pv_de\", \n",
    " 'Ist_PV':\"ist_pv_de\",'Ist_Load_BW':\"ist_load_bw\", 'Prognose_Load_BW':\"fc_load_bw\", 'Ist_Wind_BW':\"ist_wind_bw\",\n",
    "'Prognose_Wind_BW':\"fc_wind_bw\", 'Ist_PV_BW':\"ist_pv_bw\", 'Prognose_PV_BW':\"fc_pv_bw\"},inplace=True)\n",
    "df3[\"p_15\"]=df3[\"p_15\"].round(2)  #\n",
    "df3.loc[df3[\"fc_wind_bw\"]>1600, \"fc_wind_bw\"]=1600  # cut unplausible values\n",
    "df3[\"error_wind_bw\"]=(df3[\"ist_wind_bw\"]-df3[\"fc_wind_bw\"]).round(2)  #absolute errors\n",
    "df3[\"error_wind_de\"]=(df3[\"ist_wind_de\"]-df3[\"fc_wind_de\"]).round(2)\n",
    "df3[\"rel_error_wind_bw\"]=((df3[\"ist_wind_bw\"]-df3[\"fc_wind_bw\"])/df3[\"fc_wind_bw\"]).round(3)\n",
    "df3[\"rel_error_wind_de\"]=((df3[\"ist_wind_de\"]-df3[\"fc_wind_de\"])/df3[\"fc_wind_bw\"]).round(3)\n",
    "df3.replace([np.inf, -np.inf], np.nan, inplace=True)\n",
    "df3.loc[df3[\"error_wind_bw\"]<-900,\"error_wind_bw\"]=-900 #cut extrem values\n",
    "df3.loc[df3[\"rel_error_wind_bw\"]>4,\"rel_error_wind_bw\"]=4  #cut extrem values\n",
    "df3[\"int_ix\"]=range(len(df3))\n",
    "df3[\"day\"]=df3.index.day\n",
    "df3[\"hour\"]=df3.index.hour+1"
   ]
  },
  {
   "cell_type": "code",
   "execution_count": null,
   "id": "ebbe24a4",
   "metadata": {},
   "outputs": [],
   "source": [
    "with pd.ExcelWriter('data_ATIS3.xlsx') as writer:  \n",
    "    df3.to_excel(writer, sheet_name='time_series')   #save time series data"
   ]
  },
  {
   "cell_type": "markdown",
   "id": "50abbee8",
   "metadata": {},
   "source": [
    "## Generate Scenarios"
   ]
  },
  {
   "cell_type": "code",
   "execution_count": 3,
   "id": "7ef54967",
   "metadata": {},
   "outputs": [],
   "source": [
    "# create fc diviation scenarios\n",
    "excel_book = pxl.load_workbook('data_ATIS3.xlsx')\n",
    "\n",
    "with pd.ExcelWriter('data_ATIS3.xlsx', engine='openpyxl') as writer:\n",
    "    \n",
    "    writer.book = excel_book\n",
    "# we conduct the analysis for each hour since the fc errors are nout uniformly distributed accross all 24h\n",
    "        df4=df3[df3[\"hour\"]==h]    \n",
    "    for h in range(1,25):    \n",
    "        scen=pd.DataFrame(columns=[\"neg_u250\", \"pos_u250\", \"neg\", \"pos\", \"neg_o1250\", \"pos_o1250\"])\n",
    "\n",
    "        d1=df4.loc[(df4[\"fc_wind_bw\"]>=0)&(df4[\"fc_wind_bw\"]<250),\"rel_error_wind_bw\"]\n",
    "        d2=df4.loc[(df4[\"fc_wind_bw\"]>=250)&(df4[\"fc_wind_bw\"]<1250),\"rel_error_wind_bw\"]\n",
    "        d3=df4.loc[(df4[\"fc_wind_bw\"]>=1250)&(df4[\"fc_wind_bw\"]<1600),\"rel_error_wind_bw\"]\n",
    "\n",
    "        for q in range(1,101,2):\n",
    "            scen.loc[q, \"neg_u250\"]=d1[d1<0].quantile(q/100, interpolation=\"linear\")\n",
    "            scen.loc[q, \"pos_u250\"]=d1[d1>=0].quantile(q/100, interpolation=\"linear\")\n",
    "            scen.loc[q, \"neg\"]=d2[d2<0].quantile(q/100, interpolation=\"linear\")\n",
    "            scen.loc[q, \"pos\"]=d2[d2>=0].quantile(q/100, interpolation=\"linear\")\n",
    "            scen.loc[q, \"neg_o1250\"]=d3[d3<0].quantile(q/100, interpolation=\"linear\")\n",
    "            scen.loc[q, \"pos_o1250\"]=d3[d3>=0].quantile(q/100, interpolation=\"linear\")\n",
    "\n",
    "        scen.index=range(1,51) \n",
    "\n",
    "        # Write the new data to the file without overwriting what already exists\n",
    "        scen.to_excel(writer, sheet_name='s_q_'+str(h))\n",
    "\n",
    "        # Save the file\n",
    "        writer.save()"
   ]
  },
  {
   "cell_type": "code",
   "execution_count": 4,
   "id": "943b17ec",
   "metadata": {},
   "outputs": [],
   "source": [
    "# create price diviation scenarios\n",
    "\n",
    "df3[\"fp_1\"]=((df3.p_da-df3.p_15)/df3.p_da).round(3)   #we use realtive diviations\n",
    "df3[\"fp_2\"]=((df3.p_da-df3.p_id3)/df3.p_da).round(3)\n",
    "df3.replace([np.inf, -np.inf], np.nan, inplace=True)\n",
    "\n",
    "t=5   #cut outlines in the sample down to a threshold value\n",
    "act=t\n",
    "df3.loc[abs(df3[\"fp_1\"])>t,\"fp_1\"]=act\n",
    "df3.loc[abs(df3[\"fp_1\"])<-t,\"fp_1\"]=-act\n",
    "df3.loc[abs(df3[\"fp_2\"])>t,\"fp_2\"]=act\n",
    "df3.loc[abs(df3[\"fp_2\"])<-t,\"fp_2\"]=-act\n",
    "\n",
    "scen2=pd.DataFrame(columns=[\"delta_15_da\", \"delta_id3_da\"])\n",
    "d1=df3[\"fp_1\"]\n",
    "d2=df3[\"fp_2\"]\n",
    "for q in range(1,101,5):\n",
    "    scen2.loc[q, \"delta_15_da\"]=d1.quantile(q/100, interpolation=\"linear\")\n",
    "    scen2.loc[q, \"delta_id3_da\"]=d2.quantile(q/100, interpolation=\"linear\")\n",
    "    \n",
    "scen2.index=range(1,21) \n",
    "\n",
    "excel_book = pxl.load_workbook('data_ATIS3.xlsx')\n",
    "\n",
    "with pd.ExcelWriter('data_ATIS3.xlsx', engine='openpyxl') as writer:\n",
    "    writer.book = excel_book\n",
    "    scen2.to_excel(writer, sheet_name='s_prices')\n",
    " # Save the file\n",
    "    writer.save()"
   ]
  }
 ],
 "metadata": {
  "kernelspec": {
   "display_name": "Python 3",
   "language": "python",
   "name": "python3"
  },
  "language_info": {
   "codemirror_mode": {
    "name": "ipython",
    "version": 3
   },
   "file_extension": ".py",
   "mimetype": "text/x-python",
   "name": "python",
   "nbconvert_exporter": "python",
   "pygments_lexer": "ipython3",
   "version": "3.8.8"
  }
 },
 "nbformat": 4,
 "nbformat_minor": 5
}
