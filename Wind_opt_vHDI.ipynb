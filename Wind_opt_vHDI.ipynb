{
 "cells": [
  {
   "cell_type": "code",
   "execution_count": 1,
   "id": "c595b00b",
   "metadata": {},
   "outputs": [
    {
     "name": "stderr",
     "output_type": "stream",
     "text": [
      "\u001b[32m\u001b[1m  Activating\u001b[22m\u001b[39m environment at `C:\\Users\\diersh\\OneDrive - EWI an der Universität zu Köln\\Dokumente\\Promotion\\ATIS3\\data\\Project.toml`\n"
     ]
    }
   ],
   "source": [
    "using Pkg\n",
    "Pkg.activate(\".\"); \n",
    "Pkg.instantiate()"
   ]
  },
  {
   "cell_type": "code",
   "execution_count": 2,
   "id": "b287fdd8",
   "metadata": {},
   "outputs": [],
   "source": [
    "#ENV[\"CPLEX_STUDIO_BINARIES\"] = \"C:\\\\Program Files\\\\CPLEX_Studio1210\\\\cplex\\\\bin\\\\x86-64_win\\\\\"\n",
    "#Pkg.add(\"CPLEX\")\n",
    "#Pkg.build(\"CPLEX\")"
   ]
  },
  {
   "cell_type": "code",
   "execution_count": 3,
   "id": "d2199ee8",
   "metadata": {
    "scrolled": true
   },
   "outputs": [
    {
     "name": "stderr",
     "output_type": "stream",
     "text": [
      "\n",
      "(process:13232): GLib-GIO-WARNING **: 15:30:51.903: Unexpectedly, UWP app `c5e2524a-ea46-4f67-841f-6a9465d9d515_10.0.19041.1023_neutral_neutral_cw5n1h2txyewy' (AUMId `c5e2524a-ea46-4f67-841f-6a9465d9d515_cw5n1h2txyewy!App') supports 1 extensions but has no verbs\n",
      "\n",
      "(process:13232): GLib-GIO-WARNING **: 15:30:52.003: Unexpectedly, UWP app `Microsoft.Windows.SecHealthUI_10.0.19041.1023_neutral__cw5n1h2txyewy' (AUMId `Microsoft.Windows.SecHealthUI_cw5n1h2txyewy!SecHealthUI') supports 1 extensions but has no verbs\n"
     ]
    }
   ],
   "source": [
    "using JuMP, LinearAlgebra, Plots, StatsPlots, Statistics, DataFrames, XLSX, AxisArrays, Parameters, CSV, GLPK, BilevelJuMP, CPLEX#, CSV, GLPK, BilevelJuMP"
   ]
  },
  {
   "cell_type": "code",
   "execution_count": 4,
   "id": "a0ddc0fe",
   "metadata": {},
   "outputs": [
    {
     "name": "stdout",
     "output_type": "stream",
     "text": [
      "All files loaded\n"
     ]
    }
   ],
   "source": [
    "using XLSX\n",
    "input_path = \"C:\\\\Users\\\\diersh\\\\OneDrive - EWI an der Universität zu Köln\\\\Dokumente\\\\Promotion\\\\ATIS3\\\\data\\\\\"\n",
    "xl = XLSX.readxlsx(input_path * \"data_ATIS3.xlsx\") \n",
    "data = Dict()\n",
    "\n",
    "for s in XLSX.sheetnames(xl)\n",
    "    data[s] = DataFrame(XLSX.gettable(xl[s]; infer_eltypes=true)...)\n",
    "end\n",
    "println(\"All files loaded\")"
   ]
  },
  {
   "cell_type": "code",
   "execution_count": 7,
   "id": "aa076888",
   "metadata": {},
   "outputs": [
    {
     "ename": "LoadError",
     "evalue": "ArgumentError: unable to check bounds for indices of type Missing",
     "output_type": "error",
     "traceback": [
      "ArgumentError: unable to check bounds for indices of type Missing",
      "",
      "Stacktrace:",
      " [1] checkindex(#unused#::Type{Bool}, inds::Base.OneTo{Int64}, i::Missing)",
      "   @ Base .\\abstractarray.jl:671",
      " [2] checkindex",
      "   @ .\\abstractarray.jl:686 [inlined]",
      " [3] getindex(df::DataFrame, row_inds::Vector{Union{Missing, Bool}}, #unused#::Colon)",
      "   @ DataFrames C:\\Users\\diersh\\.julia\\packages\\DataFrames\\MA4YO\\src\\dataframe\\dataframe.jl:576",
      " [4] top-level scope",
      "   @ In[7]:1",
      " [5] eval",
      "   @ .\\boot.jl:360 [inlined]",
      " [6] include_string(mapexpr::typeof(REPL.softscope), mod::Module, code::String, filename::String)",
      "   @ Base .\\loading.jl:1116"
     ]
    }
   ],
   "source": [
    "data[\"time_series\"][data[\"time_series\"][:, :hour] .== 2, :]"
   ]
  },
  {
   "cell_type": "code",
   "execution_count": 14,
   "id": "866bea2e",
   "metadata": {},
   "outputs": [
    {
     "data": {
      "text/plain": [
       "26-element Vector{String}:\n",
       " \"Begin\"\n",
       " \"p_da\"\n",
       " \"p_15\"\n",
       " \"p_id3\"\n",
       " \"fc_load_de\"\n",
       " \"ist_load_de\"\n",
       " \"fc_wind_de\"\n",
       " \"ist_wind_de\"\n",
       " \"fc_pv_de\"\n",
       " \"ist_pv_de\"\n",
       " \"ist_load_bw\"\n",
       " \"fc_load_bw\"\n",
       " \"ist_wind_bw\"\n",
       " \"fc_wind_bw\"\n",
       " \"ist_pv_bw\"\n",
       " \"fc_pv_bw\"\n",
       " \"error_wind_bw\"\n",
       " \"error_wind_de\"\n",
       " \"rel_error_wind_bw\"\n",
       " \"rel_error_wind_de\"\n",
       " \"int_ix\"\n",
       " \"year\"\n",
       " \"month\"\n",
       " \"day\"\n",
       " \"hour\"\n",
       " \"weekday\""
      ]
     },
     "execution_count": 14,
     "metadata": {},
     "output_type": "execute_result"
    }
   ],
   "source": [
    "names(data[\"time_series\"])"
   ]
  },
  {
   "cell_type": "code",
   "execution_count": null,
   "id": "85404746",
   "metadata": {},
   "outputs": [],
   "source": [
    "test=data[\"time_series\"][:,\"Begin\"]"
   ]
  },
  {
   "cell_type": "code",
   "execution_count": 20,
   "id": "5afa9bcd",
   "metadata": {},
   "outputs": [
    {
     "data": {
      "text/plain": [
       "1-element Vector{Matrix{Float64}}:\n",
       " [0.02 0.02 … 0.02 0.02]"
      ]
     },
     "execution_count": 20,
     "metadata": {},
     "output_type": "execute_result"
    }
   ],
   "source": [
    "t=ones(1,50)\n",
    "[t.*0.02]"
   ]
  },
  {
   "cell_type": "markdown",
   "id": "696e6279",
   "metadata": {},
   "source": [
    "### Irgendwelche Beispielwerte"
   ]
  },
  {
   "cell_type": "code",
   "execution_count": null,
   "id": "b3864a15",
   "metadata": {
    "scrolled": true
   },
   "outputs": [],
   "source": [
    "param = Dict(\n",
    "    :a          => 0.85,  # lower bound for da bid\n",
    "    :b          => 1.15,  # upper bound for da bid\n",
    "    :FC         => data[\"time_series\"][:,\"fc_wind_bw\"],  # Forecast\n",
    "\n",
    " :pda        => data[\"time_series\"][:,\"p_da\"],   # Day ahead price\n",
    " :p15        => data[\"time_series\"][:,\"p_15\"],   # 15 min price\n",
    " :pID3       => data[\"time_series\"][:,\"p_id3\"],  # ID3 price\n",
    "\n",
    " :Ω => [1, 2], # index for up/down FCError Scenarios\n",
    " :Φ => collect(1:50), # index for second stage FCError scenarios\n",
    "\n",
    " :α          => [0.5, 0.5],        # Probability of Scenario Ω\n",
    " :β          => ones(1,50).*0.02,  # Probability of Scenario Φ\n",
    "    \n",
    " :ω          => [-1, 1], #sign of FC Error\n",
    " :θ          => [0, 0.05, 0.1, 0.18, 0.25] # Error as a fraction of FC  \n",
    " )       \n",
    "\n",
    "# to do FC* Scenarios to get q"
   ]
  },
  {
   "cell_type": "code",
   "execution_count": null,
   "id": "c810da30",
   "metadata": {
    "scrolled": false
   },
   "outputs": [],
   "source": [
    "bm = BilevelModel(CPLEX.Optimizer, mode = BilevelJuMP.SOS1Mode())"
   ]
  },
  {
   "cell_type": "code",
   "execution_count": null,
   "id": "2c836c53",
   "metadata": {
    "scrolled": true
   },
   "outputs": [],
   "source": [
    "@variable(Upper(bm), param[:a]*param[:FC] <= qda <= param[:b]*param[:FC]) # day ahead bids regulatory bound\n",
    "@variable(Lower(bm), q15[w in param[:Ω]])                 # q15 w/o strict limits\n",
    "@variable(Lower(bm), qID3[w in param[:Ω],i in param[:Φ]])\n",
    "@variable(Lower(bm), Qr[w in param[:Ω],i in param[:Φ]])\n",
    "@variable(Lower(bm), FCE[w in param[:Ω],i in param[:Φ]])\n",
    "\n",
    "@constraint(Lower(bm), ID3[w in param[:Ω],i in param[:Φ]], qID3[w,i] == Qr[w,i] -qda -q15[w])\n",
    "@constraint(Lower(bm), QR[w in param[:Ω],i in param[:Φ]], Qr[w,i] == param[:FC] + FCE[w,i])\n",
    "@constraint(Lower(bm), fce[w in param[:Ω],i in param[:Φ]], FCE[w,i] == param[:ω][w] * param[:θ][i]*param[:FC])\n",
    "\n",
    "\n",
    "@objective(Upper(bm), Max, \n",
    "   sum(param[:α][w] * sum(param[:β][i] *               # sum over stochastic draws * probs\n",
    "    (q15[w]*param[:p15] + qID3[w,i]*param[:pID3])       # wait and see decisions\n",
    "    for i in param[:Φ]) for w in param[:Ω])              #iterating over all scenarios\n",
    "    + qda*param[:pda])                           #here and now decision    \n"
   ]
  },
  {
   "cell_type": "code",
   "execution_count": null,
   "id": "4f3dbb5a",
   "metadata": {},
   "outputs": [],
   "source": [
    "#@objective(Lower(bm), Max, \n",
    " #      q15[w]*p15 +\n",
    "  #  sum(θ[i]*qID3[w,i]*pID3 for w in Ω, i in Φ))"
   ]
  },
  {
   "cell_type": "markdown",
   "id": "9b05880c",
   "metadata": {},
   "source": [
    "## Vielleicht sollten wir doch nochmal überlegen, statt nem Bilevel model ein dynamisches mit non-anticipativity constraints zu benutzen\n",
    "- als ich nochmal was nachschauen wollte, war das echt überall so..\n",
    "- ansonsten müsst ihr nochmal schauen, wie man im Lower-Level mit Bilevel Jump (oder was auch immer) für die unterschiedlichen Realisationen des Vorzeichens einzeln optimiert - so jedenfalls nicht"
   ]
  }
 ],
 "metadata": {
  "kernelspec": {
   "display_name": "Julia 1.6.3",
   "language": "julia",
   "name": "julia-1.6"
  },
  "language_info": {
   "file_extension": ".jl",
   "mimetype": "application/julia",
   "name": "julia",
   "version": "1.6.3"
  }
 },
 "nbformat": 4,
 "nbformat_minor": 5
}
