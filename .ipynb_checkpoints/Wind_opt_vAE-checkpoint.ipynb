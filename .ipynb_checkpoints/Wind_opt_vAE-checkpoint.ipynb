{
 "cells": [
  {
   "cell_type": "code",
   "execution_count": 1,
   "metadata": {},
   "outputs": [
    {
     "name": "stderr",
     "output_type": "stream",
     "text": [
      "\u001b[32m\u001b[1m  Activating\u001b[22m\u001b[39m environment at `C:\\Users\\ESchr\\workspace\\uni\\master\\ATIS3\\Group_project\\ATIES3_group_project\\Project.toml`\n"
     ]
    }
   ],
   "source": [
    "using Pkg\n",
    "Pkg.activate(\".\"); \n",
    "Pkg.instantiate()"
   ]
  },
  {
   "cell_type": "code",
   "execution_count": 2,
   "metadata": {
    "scrolled": true
   },
   "outputs": [
    {
     "name": "stderr",
     "output_type": "stream",
     "text": [
      "┌ Info: Precompiling JuMP [4076af6c-e467-56ae-b986-b466b2749572]\n",
      "└ @ Base loading.jl:1342\n"
     ]
    }
   ],
   "source": [
    "using JuMP, Plots, CPLEX, DataFrames, XLSX, Statistics#, IterTools, StatsPlots"
   ]
  },
  {
   "cell_type": "markdown",
   "metadata": {},
   "source": [
    "# Read in Data"
   ]
  },
  {
   "cell_type": "code",
   "execution_count": 3,
   "metadata": {},
   "outputs": [],
   "source": [
    "data = Dict()\n",
    "data[\"time_series\"] = DataFrame(XLSX.readtable(\"data_ATIS3.xlsx\", \"time_series\")...)\n",
    "data[\"p_scenarios\"] = DataFrame(XLSX.readtable(\"data_ATIS3_new.xlsx\", \"s_prices\")...)\n",
    "for h in 1:24\n",
    "    data[\"q_scenarios\", h] = DataFrame(XLSX.readtable(\"data_ATIS3_new.xlsx\", \"s_q_$h\")...)\n",
    "end;"
   ]
  },
  {
   "cell_type": "markdown",
   "metadata": {},
   "source": [
    "# Define Params"
   ]
  },
  {
   "cell_type": "markdown",
   "metadata": {},
   "source": [
    "### Sets"
   ]
  },
  {
   "cell_type": "code",
   "execution_count": 4,
   "metadata": {},
   "outputs": [
    {
     "data": {
      "text/plain": [
       "3"
      ]
     },
     "execution_count": 4,
     "metadata": {},
     "output_type": "execute_result"
    }
   ],
   "source": [
    "# Number of scenarios, devided into FC scenarios and price scenarios\n",
    "Ω_p = length(data[\"p_scenarios\"].delta_15_da)\n",
    "Ω_FC = 2*length(data[\"q_scenarios\", 1].neg)\n",
    "Ω = Ω_FC * Ω_p^2\n",
    "# Number time periods\n",
    "T = 1\n",
    "# Number of hours per day\n",
    "H = 24\n",
    "# Number of FC levels (low, mid, high)\n",
    "L = 3"
   ]
  },
  {
   "cell_type": "markdown",
   "metadata": {},
   "source": [
    "### Scalars"
   ]
  },
  {
   "cell_type": "code",
   "execution_count": 5,
   "metadata": {},
   "outputs": [
    {
     "data": {
      "text/plain": [
       "2.5e-5"
      ]
     },
     "execution_count": 5,
     "metadata": {},
     "output_type": "execute_result"
    }
   ],
   "source": [
    "# Initial and final period\n",
    "ti = 300\n",
    "tf = ti + T-1\n",
    "# Factors to FC that limit DA bids\n",
    "FC_DA_fac_lo = 0.85\n",
    "FC_DA_fac_up = 1.15\n",
    "# Risk\n",
    "β = 0.0\n",
    "α = 0.95\n",
    "# Scaling factor FC\n",
    "q_FC_scal = 0.025\n",
    "# Scenario probablilities\n",
    "pi = 1/Ω"
   ]
  },
  {
   "cell_type": "markdown",
   "metadata": {},
   "source": [
    "### Vectors"
   ]
  },
  {
   "cell_type": "code",
   "execution_count": 17,
   "metadata": {},
   "outputs": [],
   "source": [
    "### Length T\n",
    "# Central prices in DA, 15 and ID\n",
    "p_DA  = data[\"time_series\"][ti:tf,\"p_da\"]\n",
    "p_15_centre  = data[\"time_series\"][ti:tf,\"p_15\"]\n",
    "p_ID_centre = data[\"time_series\"][ti:tf,\"p_id3\"]\n",
    "# Power ForeCasted\n",
    "q_FC = data[\"time_series\"].fc_wind_bw[ti:tf] .* q_FC_scal    \n",
    "# Forecast type\n",
    "FC_type = []\n",
    "hour = 0\n",
    "day = 1\n",
    "for t in 1:T\n",
    "    hour += 1\n",
    "    if hour > 24\n",
    "        hour = 1\n",
    "        day +=1\n",
    "    end\n",
    "    if q_FC[t] <= 250*q_FC_scal\n",
    "        push!(FC_type, Dict(\"level\" => 1, \"day\" => day, \"hour\" => hour))\n",
    "    elseif 250*q_FC_scal < q_FC[t] <= 1250*q_FC_scal\n",
    "        push!(FC_type, Dict(\"level\" => 2, \"day\" => day, \"hour\" => hour))\n",
    "    elseif q_FC[t] > 1250*q_FC_scal\n",
    "        push!(FC_type, Dict(\"level\" => 3, \"day\" => day, \"hour\" => hour))\n",
    "    else\n",
    "        error(message::\"FCTypeNotFound\")\n",
    "    end\n",
    "end\n",
    "\n",
    "### Length Ω_p\n",
    "# Errors 15 and ID prices\n",
    "Δp_15 = data[\"p_scenarios\"].delta_15_da\n",
    "Δp_ID = data[\"p_scenarios\"].delta_id3_da\n",
    "\n",
    "### Length Ω_FC\n",
    "# FC error sign; 1st stage decission\n",
    "F_sgn = vcat(\n",
    "    fill(1, length(data[\"q_scenarios\", 1].neg)),\n",
    "    fill(2, length(data[\"q_scenarios\", 1].pos)));"
   ]
  },
  {
   "cell_type": "markdown",
   "metadata": {},
   "source": [
    "**Explanation FC_type** \\\n",
    "The value of a forecast q_FC, as well as the hour of the day (time lag between FC and realization)\n",
    "leads to different distributions of the FC error Δq_FC.\n",
    "We distinguish between low (<250 MW), mid (250 MW < Δq_FC < 1250 MW)\n",
    "and high (> 1250 MW) for the forecasted value and devide the day in 24h.\n",
    "Depending on the forecast value q_FC[t] in a period t, we save the forecast type as 1=low,\n",
    "2=mid and 3=high. Depending on the period t, we save the hour h. Note that our hour has no connection to the \"real\" time. Later on, F_type[t] is used to select the right column of the forecast error\n",
    "distribution matrix Δq_FC. Concrete: Δq_FC[ω_FC, F_type[t][\"level\"], F_type[t][\"hour\"]]."
   ]
  },
  {
   "cell_type": "markdown",
   "metadata": {},
   "source": [
    "### Matrices"
   ]
  },
  {
   "cell_type": "code",
   "execution_count": 18,
   "metadata": {},
   "outputs": [],
   "source": [
    "# Forecast error matrix (Ω x 3)\n",
    "    # Relative error of the forecast used for each scenario ω ϵ Ω,\n",
    "    # depending on the forecast type F_type being low, mid or high (see text above)\n",
    "Δq_FC = Array{Float64,3}(undef, Ω_FC, L, H)\n",
    "for h in 1:H\n",
    "    Δq_FC[:,:,h] = cat(\n",
    "        cat(data[\"q_scenarios\", h].neg_u250, data[\"q_scenarios\", h].pos_u250, dims=1),\n",
    "        cat(data[\"q_scenarios\", h].neg, data[\"q_scenarios\", h].pos, dims=1),\n",
    "        cat(data[\"q_scenarios\", h].neg_o1250, data[\"q_scenarios\", h].pos_o1250, dims=1),\n",
    "        dims=2)\n",
    "end\n",
    ";"
   ]
  },
  {
   "cell_type": "markdown",
   "metadata": {},
   "source": [
    "### Some Notes\n",
    "\n",
    "**Indices**\n",
    "* t = period\n",
    "* h = hour\n",
    "* l = level\n",
    "* $\\omega$ = scenario\n",
    "* $\\omega_{FC}$ = FC scenario\n",
    "\n",
    "**Dimensions**\n",
    "* Δq_FC ($\\Omega$ x L x H)\n",
    "* q_DA (T)\n",
    "* q_15 (T x $\\Omega$)\n",
    "* FC_type (T x Dict(\"day\", \"hour\", \"level\"))\n",
    "* $\\eta$ (T x $\\Omega_{FC}$ x $\\Omega_{15}$ x $\\Omega_{ID}$)"
   ]
  },
  {
   "cell_type": "markdown",
   "metadata": {},
   "source": [
    "# Model - step by step"
   ]
  },
  {
   "cell_type": "code",
   "execution_count": 19,
   "metadata": {},
   "outputs": [],
   "source": [
    "wind = Model(CPLEX.Optimizer);"
   ]
  },
  {
   "cell_type": "code",
   "execution_count": 20,
   "metadata": {},
   "outputs": [],
   "source": [
    "# Power\n",
    "q_DA = @variable(wind, [1:T]) # No ω dependence due to non-anticipativity\n",
    "q_15 = @variable(wind, [1:T, 1:2]) # Only two decissions, depending on the sign of the FC\n",
    "# q_ID is in fact not needed, as it only depends on q_DA, q_15 and q_r=q_FC[t]*(1+Δq_FC[ω])\n",
    "\n",
    "# Risk\n",
    "η = @variable(wind, [1:T, 1:Ω_FC, 1:Ω_p, 1:Ω_p])\n",
    "ζ = @variable(wind, [1:T]);"
   ]
  },
  {
   "cell_type": "code",
   "execution_count": 21,
   "metadata": {},
   "outputs": [],
   "source": [
    "# Realized power\n",
    "q_r = @expression(wind, [t in 1:T, ω_FC in 1:Ω_FC],\n",
    "    q_FC[t] * (1 + Δq_FC[ω_FC,FC_type[t][\"level\"],FC_type[t][\"hour\"]]))\n",
    "# Realized prices\n",
    "p_15 = @expression(wind, [t in 1:T, ω_15 in 1:Ω_p],\n",
    "    p_15_centre[t] * (1 + Δp_15[ω_15]))\n",
    "p_ID = @expression(wind, [t in 1:T, ω_ID in 1:Ω_p],\n",
    "    p_ID_centre[t] * (1 + Δp_ID[ω_ID]))\n",
    "# Revenue\n",
    "R = @expression(wind, [t in 1:T, ω_FC in 1:Ω_FC, ω_15 in 1:Ω_p, ω_ID in 1:Ω_p],\n",
    "    p_DA[t] * q_DA[t]\n",
    "    + p_15[t,ω_15] * q_15[t,F_sgn[ω_FC]]\n",
    "    + p_ID[t,ω_ID] * (q_r[t,ω_FC] - q_DA[t] - q_15[t,F_sgn[ω_FC]]))\n",
    "# Risk\n",
    "CVaR = @expression(wind, [t in 1:T],\n",
    "    (ζ[t] - 1/(1-α) * sum(sum(sum(\n",
    "                pi*η[t,ω_FC,ω_15,ω_ID]\n",
    "            for ω_ID in 1:Ω_p)\n",
    "        for ω_15 in 1:Ω_p)\n",
    "    for ω_FC in 1:Ω_FC)\n",
    "    )\n",
    ");"
   ]
  },
  {
   "cell_type": "code",
   "execution_count": 22,
   "metadata": {},
   "outputs": [],
   "source": [
    "@objective(wind, Max,\n",
    "    sum(sum(sum(sum(\n",
    "                    pi*R[t,ω_FC,ω_15,ω_ID] \n",
    "                for ω_ID in 1:Ω_p)\n",
    "            for ω_15 in 1:Ω_p)\n",
    "        for ω_FC in 1:Ω_FC)\n",
    "        + β * CVaR[t]\n",
    "    for t in 1:T)\n",
    ");"
   ]
  },
  {
   "cell_type": "code",
   "execution_count": 23,
   "metadata": {},
   "outputs": [],
   "source": [
    "# DA bid within 85% and 115% of forecast\n",
    "MinMaxPowerDA = @constraint(wind, [t in 1:T],\n",
    "    FC_DA_fac_lo*q_FC[t] <= q_DA[t] <= FC_DA_fac_up*q_FC[t]);\n",
    "# Limits for total sold power; max is given by realization of last scenario of each period\n",
    "MaxPowerTot = @constraint(wind, [t in 1:T, ω_FC in 1:Ω_FC],\n",
    "    0 <= q_DA[t]+q_15[t,F_sgn[ω_FC]] <= q_r[t,end]); \n",
    "# Risk\n",
    "CVaRConst = @constraint(wind, [t in 1:T, ω_FC in 1:Ω_FC, ω_15 in 1:Ω_p, ω_ID in 1:Ω_p],\n",
    "    ζ[t] - R[t,ω_FC,ω_15,ω_ID] <= η[t,ω_FC,ω_15,ω_ID])\n",
    "ηLimLow = @constraint(wind, [t in 1:T, ω_FC in 1:Ω_FC, ω_15 in 1:Ω_p, ω_ID in 1:Ω_p],\n",
    "    η[t,ω_FC,ω_15,ω_ID] >= 0);"
   ]
  },
  {
   "cell_type": "code",
   "execution_count": 24,
   "metadata": {},
   "outputs": [
    {
     "name": "stdout",
     "output_type": "stream",
     "text": [
      "Version identifier: 12.10.0.0 | 2019-11-26 | 843d4de2ae\r\n",
      "Parallel mode: deterministic, using up to 4 threads for concurrent optimization:\r\n",
      " * Starting dual Simplex on 1 thread...\r\n",
      " * Starting Barrier on 3 threads...\r\n",
      "Tried aggregator 1 time.\r\n",
      "LP Presolve eliminated 80000 rows and 40001 columns.\r\n",
      "Aggregator did 1 substitutions.\r\n",
      "Reduced LP has 100 rows, 103 columns, and 300 nonzeros.\r\n",
      "Presolve time = 0.13 sec. (31.21 ticks)\r\n",
      "Initializing dual steep norms . . .\r\n",
      "\r\n",
      "Iteration log . . .\r\n",
      "Iteration:     1   Dual objective     =           540.216265\r\n",
      "\r\n",
      "Dual simplex solved model.\r\n",
      "\r\n"
     ]
    },
    {
     "data": {
      "text/plain": [
       "OPTIMAL::TerminationStatusCode = 1"
      ]
     },
     "execution_count": 24,
     "metadata": {},
     "output_type": "execute_result"
    }
   ],
   "source": [
    "optimize!(wind)\n",
    "termination_status(wind)"
   ]
  },
  {
   "cell_type": "markdown",
   "metadata": {},
   "source": [
    "# Model as Function"
   ]
  },
  {
   "cell_type": "code",
   "execution_count": 28,
   "metadata": {},
   "outputs": [],
   "source": [
    "function wind_opt(β=0.0)\n",
    "    wind = Model(CPLEX.Optimizer)\n",
    "    set_silent(wind)\n",
    "\n",
    "    @variables(wind, begin\n",
    "        # Powers\n",
    "        q_DA[1:T] >= 0\n",
    "        q_15[1:T,1:2]\n",
    "        # Risk\n",
    "        η[1:T, 1:Ω_FC, 1:Ω_p, 1:Ω_p] >= 0\n",
    "        ζ[1:T]\n",
    "    end)    \n",
    "    \n",
    "    q_r = @expression(wind, [t in 1:T, ω_FC in 1:Ω_FC], # Realized power\n",
    "        q_FC[t] * (1 + Δq_FC[ω_FC,FC_type[t][\"level\"],FC_type[t][\"hour\"]]))\n",
    "    p_15 = @expression(wind, [t in 1:T, ω_15 in 1:Ω_p], # Realized 15 price\n",
    "        p_15_centre[t] * (1 + Δp_15[ω_15]))\n",
    "    p_ID = @expression(wind, [t in 1:T, ω_ID in 1:Ω_p], # Realized ID price\n",
    "        p_ID_centre[t] * (1 + Δp_ID[ω_ID]))\n",
    "    R = @expression(wind, [t in 1:T, ω_FC in 1:Ω_FC, ω_15 in 1:Ω_p, ω_ID in 1:Ω_p], # Revenue\n",
    "        p_DA[t] * q_DA[t]\n",
    "        + p_15[t,ω_15] * q_15[t,F_sgn[ω_FC]]\n",
    "        + p_ID[t,ω_ID] * (q_r[t,ω_FC] - q_DA[t] - q_15[t,F_sgn[ω_FC]]))\n",
    "    CVaR = @expression(wind, [t in 1:T], # Risk\n",
    "        (ζ[t] - 1/(1-α) * sum(sum(sum(\n",
    "                    pi*η[t,ω_FC,ω_15,ω_ID]\n",
    "                for ω_ID in 1:Ω_p)\n",
    "            for ω_15 in 1:Ω_p)\n",
    "        for ω_FC in 1:Ω_FC)));\n",
    "    \n",
    "    @objective(wind, Max,\n",
    "        sum(sum(sum(sum(\n",
    "                        pi*R[t,ω_FC,ω_15,ω_ID] \n",
    "                    for ω_ID in 1:Ω_p)\n",
    "                for ω_15 in 1:Ω_p)\n",
    "            for ω_FC in 1:Ω_FC)\n",
    "            + β * CVaR[t]\n",
    "        for t in 1:T));\n",
    "\n",
    "    @constraints(wind, begin\n",
    "        MinMaxPowerDA[t in 1:T], FC_DA_fac_lo*q_FC[t] <= q_DA[t] <= FC_DA_fac_up*q_FC[t]\n",
    "        MaxPowerTot[t in 1:T, ω_FC in 1:Ω_FC], 0 <= q_DA[t]+q_15[t,F_sgn[ω_FC]] <= q_r[t,end]\n",
    "        CVaRconstr[t in 1:T, ω_FC in 1:Ω_FC, ω_15 in 1:Ω_p, ω_ID in 1:Ω_p],\n",
    "            ζ[t] - R[t,ω_FC,ω_15,ω_ID] <= η[t,ω_FC,ω_15,ω_ID]\n",
    "    end)    \n",
    "    \n",
    "    optimize!(wind)\n",
    "    \n",
    "    result = DataFrame(\n",
    "        β = Float64[],\n",
    "        p_DA = Float64[],\n",
    "        p_15 = Float64[],\n",
    "        p_ID = Float64[],\n",
    "        q_FC = Float64[],\n",
    "        q_DA = Float64[],\n",
    "        q_15_neg = Float64[],\n",
    "        q_15_pos = Float64[],\n",
    "        R_mean = Float64[],\n",
    "        R_STD = Float64[],\n",
    "        CVaR = Float64[],\n",
    "    )\n",
    "    for t in 1:T\n",
    "        push!(result, [\n",
    "            β, p_DA[t], p_15[t], p_ID[t], q_FC[t],\n",
    "            value.(q_DA[t]),\n",
    "            value.(q_15[t,1]),\n",
    "            value.(q_15[t,2]),\n",
    "            Statistics.mean(value.(R[t,:,:,:])),\n",
    "            Statistics.std(value.(R[t,:,:,:])),\n",
    "            value.(CVaR[t])\n",
    "            ])\n",
    "    end\n",
    "    return result\n",
    "end;"
   ]
  },
  {
   "cell_type": "code",
   "execution_count": 29,
   "metadata": {},
   "outputs": [
    {
     "name": "stdout",
     "output_type": "stream",
     "text": [
      "Version identifier: 12.10.0.0 | 2019-11-26 | 843d4de2ae\r\n",
      "Parallel mode: deterministic, using up to 4 threads for concurrent optimization:\r\n",
      " * Starting dual Simplex on 1 thread...\r\n",
      " * Starting Barrier on 3 threads...\r\n",
      "Tried aggregator 1 time.\r\n",
      "LP Presolve eliminated 40000 rows and 40001 columns.\r\n",
      "Aggregator did 1 substitutions.\r\n",
      "Reduced LP has 100 rows, 103 columns, and 300 nonzeros.\r\n",
      "Presolve time = 0.11 sec. (24.63 ticks)\r\n",
      "Initializing dual steep norms . . .\r\n",
      "\r\n",
      "Iteration log . . .\r\n",
      "Iteration:     1   Dual objective     =           540.216265\r\n",
      "\r\n",
      "Dual simplex solved model.\r\n",
      "\r\n",
      "Version identifier: 12.10.0.0 | 2019-11-26 | 843d4de2ae\r\n",
      "Parallel mode: deterministic, using up to 4 threads for concurrent optimization:\r\n",
      " * Starting dual Simplex on 1 thread...\r\n",
      " * Starting Barrier on 3 threads...\r\n",
      "Tried aggregator 1 time.\r\n",
      "Aggregator did 1 substitutions.\r\n",
      "Reduced LP has 40100 rows, 40104 columns, and 160300 nonzeros.\r\n",
      "Presolve time = 0.34 sec. (74.05 ticks)\r\n",
      "Initializing dual steep norms . . .\r\n",
      "\r\n",
      "Iteration log . . .\r\n",
      "Iteration:     1   Scaled dual infeas =             0.999500\r\n",
      "Iteration:  1314   Scaled dual infeas =             0.343000\r\n",
      "Iteration:  2001   Dual objective     =          1034.477196\r\n",
      "Iteration:  2194   Dual objective     =          1011.899686\r\n",
      "Iteration:  2391   Dual objective     =           991.372725\r\n",
      "Iteration:  2580   Dual objective     =           974.873984\r\n",
      "Iteration:  2768   Dual objective     =           960.456914\r\n",
      "Iteration:  2956   Dual objective     =           947.699254\r\n",
      "Iteration:  3144   Dual objective     =           936.097415\r\n",
      "Iteration:  3345   Dual objective     =           924.896628\r\n",
      "Iteration:  3554   Dual objective     =           914.111593\r\n",
      "\r\n",
      "Barrier solved model.\r\n",
      "\r\n",
      "Version identifier: 12.10.0.0 | 2019-11-26 | 843d4de2ae\r\n",
      "Parallel mode: deterministic, using up to 4 threads for concurrent optimization:\r\n",
      " * Starting dual Simplex on 1 thread...\r\n",
      " * Starting Barrier on 3 threads...\r\n",
      "Tried aggregator 1 time.\r\n",
      "Aggregator did 1 substitutions.\r\n",
      "Reduced LP has 40100 rows, 40104 columns, and 160300 nonzeros.\r\n",
      "Presolve time = 0.34 sec. (74.05 ticks)\r\n",
      "Initializing dual steep norms . . .\r\n",
      "\r\n",
      "Iteration log . . .\r\n",
      "Iteration:     1   Scaled dual infeas =             1.999000\r\n",
      "Iteration:  1314   Scaled dual infeas =             0.686000\r\n",
      "Iteration:  2001   Dual objective     =          1528.719153\r\n",
      "Iteration:  2194   Dual objective     =          1483.564133\r\n",
      "Iteration:  2391   Dual objective     =          1442.510211\r\n",
      "Iteration:  2580   Dual objective     =          1409.512728\r\n",
      "Iteration:  2768   Dual objective     =          1380.678589\r\n",
      "Iteration:  2956   Dual objective     =          1355.163270\r\n",
      "Iteration:  3144   Dual objective     =          1331.959590\r\n",
      "Iteration:  3345   Dual objective     =          1309.558018\r\n",
      "Iteration:  3554   Dual objective     =          1287.987947\r\n",
      "Iteration:  3816   Dual objective     =          1261.894076\r\n",
      "\r\n",
      "Barrier solved model.\r\n",
      "\r\n",
      "Version identifier: 12.10.0.0 | 2019-11-26 | 843d4de2ae\r\n",
      "Parallel mode: deterministic, using up to 4 threads for concurrent optimization:\r\n",
      " * Starting dual Simplex on 1 thread...\r\n",
      " * Starting Barrier on 3 threads...\r\n",
      "Tried aggregator 1 time.\r\n",
      "Aggregator did 1 substitutions.\r\n",
      "Reduced LP has 40100 rows, 40104 columns, and 160300 nonzeros.\r\n",
      "Presolve time = 0.27 sec. (74.05 ticks)\r\n",
      "Initializing dual steep norms . . .\r\n",
      "\r\n",
      "Iteration log . . .\r\n",
      "Iteration:     1   Scaled dual infeas =             2.998500\r\n",
      "Iteration:  1314   Scaled dual infeas =             1.029000\r\n",
      "Iteration:  2001   Dual objective     =          2022.961110\r\n",
      "Iteration:  2194   Dual objective     =          1955.228580\r\n",
      "Iteration:  2391   Dual objective     =          1893.647697\r\n",
      "Iteration:  2580   Dual objective     =          1844.151473\r\n",
      "Iteration:  2768   Dual objective     =          1800.900263\r\n",
      "Iteration:  2956   Dual objective     =          1762.627285\r\n",
      "Iteration:  3144   Dual objective     =          1727.821765\r\n",
      "Iteration:  3345   Dual objective     =          1694.219407\r\n",
      "Iteration:  3554   Dual objective     =          1661.864301\r\n",
      "\r\n",
      "Barrier solved model.\r\n",
      "\r\n",
      "Version identifier: 12.10.0.0 | 2019-11-26 | 843d4de2ae\r\n",
      "Parallel mode: deterministic, using up to 4 threads for concurrent optimization:\r\n",
      " * Starting dual Simplex on 1 thread...\r\n",
      " * Starting Barrier on 3 threads...\r\n",
      "Tried aggregator 1 time.\r\n",
      "Aggregator did 1 substitutions.\r\n",
      "Reduced LP has 40100 rows, 40104 columns, and 160300 nonzeros.\r\n",
      "Presolve time = 0.30 sec. (74.05 ticks)\r\n",
      "Initializing dual steep norms . . .\r\n",
      "\r\n",
      "Iteration log . . .\r\n",
      "Iteration:     1   Scaled dual infeas =             3.998000\r\n",
      "Iteration:  1314   Scaled dual infeas =             1.372000\r\n",
      "Iteration:  2001   Dual objective     =          2517.203067\r\n",
      "Iteration:  2194   Dual objective     =          2426.893026\r\n",
      "Iteration:  2391   Dual objective     =          2344.785183\r\n",
      "Iteration:  2580   Dual objective     =          2278.790217\r\n",
      "Iteration:  2768   Dual objective     =          2221.121938\r\n",
      "Iteration:  2956   Dual objective     =          2170.091300\r\n",
      "Iteration:  3144   Dual objective     =          2123.683940\r\n",
      "Iteration:  3345   Dual objective     =          2078.880796\r\n",
      "Iteration:  3554   Dual objective     =          2035.740655\r\n",
      "\r\n",
      "Barrier solved model.\r\n",
      "\r\n",
      "Version identifier: 12.10.0.0 | 2019-11-26 | 843d4de2ae\r\n",
      "Parallel mode: deterministic, using up to 4 threads for concurrent optimization:\r\n",
      " * Starting dual Simplex on 1 thread...\r\n",
      " * Starting Barrier on 3 threads...\r\n",
      "Tried aggregator 1 time.\r\n",
      "Aggregator did 1 substitutions.\r\n",
      "Reduced LP has 40100 rows, 40104 columns, and 160300 nonzeros.\r\n",
      "Presolve time = 0.30 sec. (74.05 ticks)\r\n",
      "Initializing dual steep norms . . .\r\n",
      "\r\n",
      "Iteration log . . .\r\n",
      "Iteration:     1   Scaled dual infeas =             4.997500\r\n",
      "Iteration:  1314   Scaled dual infeas =             1.715000\r\n",
      "Iteration:  2001   Dual objective     =          3011.445024\r\n",
      "Iteration:  2194   Dual objective     =          2898.557473\r\n",
      "Iteration:  2391   Dual objective     =          2795.922669\r\n",
      "Iteration:  2580   Dual objective     =          2713.428961\r\n",
      "Iteration:  2768   Dual objective     =          2641.343613\r\n",
      "Iteration:  2956   Dual objective     =          2577.555315\r\n",
      "Iteration:  3144   Dual objective     =          2519.546116\r\n",
      "Iteration:  3345   Dual objective     =          2463.542185\r\n",
      "Iteration:  3554   Dual objective     =          2409.617009\r\n",
      "\r\n",
      "Barrier solved model.\r\n",
      "\r\n",
      "Version identifier: 12.10.0.0 | 2019-11-26 | 843d4de2ae\r\n",
      "Parallel mode: deterministic, using up to 4 threads for concurrent optimization:\r\n",
      " * Starting dual Simplex on 1 thread...\r\n",
      " * Starting Barrier on 3 threads...\r\n",
      "Tried aggregator 1 time.\r\n",
      "Aggregator did 1 substitutions.\r\n",
      "Reduced LP has 40100 rows, 40104 columns, and 160300 nonzeros.\r\n",
      "Presolve time = 0.28 sec. (74.05 ticks)\r\n",
      "Initializing dual steep norms . . .\r\n",
      "\r\n",
      "Iteration log . . .\r\n",
      "Iteration:     1   Scaled dual infeas =             5.997000\r\n",
      "Iteration:  1314   Scaled dual infeas =             2.058000\r\n",
      "Iteration:  2001   Dual objective     =          3505.686981\r\n",
      "Iteration:  2194   Dual objective     =          3370.221920\r\n",
      "Iteration:  2391   Dual objective     =          3247.060155\r\n",
      "Iteration:  2580   Dual objective     =          3148.067706\r\n",
      "Iteration:  2768   Dual objective     =          3061.565287\r\n",
      "Iteration:  2956   Dual objective     =          2985.019330\r\n",
      "Iteration:  3144   Dual objective     =          2915.408291\r\n",
      "Iteration:  3345   Dual objective     =          2848.203575\r\n",
      "Iteration:  3554   Dual objective     =          2783.493363\r\n",
      "\r\n",
      "Barrier solved model.\r\n",
      "\r\n",
      "Version identifier: 12.10.0.0 | 2019-11-26 | 843d4de2ae\r\n",
      "Parallel mode: deterministic, using up to 4 threads for concurrent optimization:\r\n",
      " * Starting dual Simplex on 1 thread...\r\n",
      " * Starting Barrier on 3 threads...\r\n",
      "Tried aggregator 1 time.\r\n",
      "Aggregator did 1 substitutions.\r\n",
      "Reduced LP has 40100 rows, 40104 columns, and 160300 nonzeros.\r\n",
      "Presolve time = 0.33 sec. (74.05 ticks)\r\n",
      "Initializing dual steep norms . . .\r\n",
      "\r\n",
      "Iteration log . . .\r\n",
      "Iteration:     1   Scaled dual infeas =             6.996500\r\n",
      "Iteration:  1314   Scaled dual infeas =             2.401000\r\n",
      "Iteration:  2001   Dual objective     =          3999.928938\r\n",
      "Iteration:  2194   Dual objective     =          3841.886367\r\n",
      "Iteration:  2391   Dual objective     =          3698.197641\r\n",
      "Iteration:  2580   Dual objective     =          3582.706450\r\n",
      "Iteration:  2768   Dual objective     =          3481.786962\r\n",
      "Iteration:  2956   Dual objective     =          3392.483346\r\n",
      "Iteration:  3144   Dual objective     =          3311.270466\r\n",
      "\r\n",
      "Barrier solved model.\r\n",
      "\r\n",
      "Version identifier: 12.10.0.0 | 2019-11-26 | 843d4de2ae\r\n",
      "Parallel mode: deterministic, using up to 4 threads for concurrent optimization:\r\n",
      " * Starting dual Simplex on 1 thread...\r\n",
      " * Starting Barrier on 3 threads...\r\n",
      "Tried aggregator 1 time.\r\n",
      "Aggregator did 1 substitutions.\r\n",
      "Reduced LP has 40100 rows, 40104 columns, and 160300 nonzeros.\r\n",
      "Presolve time = 0.28 sec. (74.05 ticks)\r\n",
      "Initializing dual steep norms . . .\r\n",
      "\r\n",
      "Iteration log . . .\r\n",
      "Iteration:     1   Scaled dual infeas =             7.996000\r\n",
      "Iteration:  1314   Scaled dual infeas =             2.744000\r\n",
      "Iteration:  2001   Dual objective     =          4494.170895\r\n",
      "Iteration:  2194   Dual objective     =          4313.550813\r\n",
      "Iteration:  2391   Dual objective     =          4149.335127\r\n",
      "Iteration:  2580   Dual objective     =          4017.345195\r\n",
      "Iteration:  2768   Dual objective     =          3902.008637\r\n",
      "Iteration:  2956   Dual objective     =          3799.947361\r\n",
      "Iteration:  3144   Dual objective     =          3707.132641\r\n",
      "Iteration:  3345   Dual objective     =          3617.526353\r\n",
      "\r\n",
      "Barrier solved model.\r\n",
      "\r\n",
      "Version identifier: 12.10.0.0 | 2019-11-26 | 843d4de2ae\r\n",
      "Parallel mode: deterministic, using up to 4 threads for concurrent optimization:\r\n",
      " * Starting dual Simplex on 1 thread...\r\n",
      " * Starting Barrier on 3 threads...\r\n",
      "Tried aggregator 1 time.\r\n",
      "Aggregator did 1 substitutions.\r\n",
      "Reduced LP has 40100 rows, 40104 columns, and 160300 nonzeros.\r\n",
      "Presolve time = 0.31 sec. (74.05 ticks)\r\n",
      "Initializing dual steep norms . . .\r\n",
      "\r\n",
      "Iteration log . . .\r\n",
      "Iteration:     1   Scaled dual infeas =             8.995500\r\n",
      "Iteration:  1314   Scaled dual infeas =             3.087000\r\n",
      "Iteration:  2001   Dual objective     =          4988.412852\r\n",
      "Iteration:  2194   Dual objective     =          4785.215260\r\n",
      "Iteration:  2391   Dual objective     =          4600.472613\r\n",
      "Iteration:  2580   Dual objective     =          4451.983939\r\n",
      "Iteration:  2768   Dual objective     =          4322.230311\r\n",
      "Iteration:  2956   Dual objective     =          4207.411376\r\n",
      "Iteration:  3144   Dual objective     =          4102.994817\r\n",
      "Iteration:  3345   Dual objective     =          4002.187742\r\n",
      "Iteration:  3554   Dual objective     =          3905.122425\r\n",
      "\r\n",
      "Barrier solved model.\r\n",
      "\r\n",
      "Version identifier: 12.10.0.0 | 2019-11-26 | 843d4de2ae\r\n",
      "Parallel mode: deterministic, using up to 4 threads for concurrent optimization:\r\n",
      " * Starting dual Simplex on 1 thread...\r\n",
      " * Starting Barrier on 3 threads...\r\n",
      "Tried aggregator 1 time.\r\n",
      "Aggregator did 1 substitutions.\r\n",
      "Reduced LP has 40100 rows, 40104 columns, and 160300 nonzeros.\r\n",
      "Presolve time = 0.31 sec. (74.05 ticks)\r\n",
      "Initializing dual steep norms . . .\r\n",
      "\r\n",
      "Iteration log . . .\r\n",
      "Iteration:     1   Scaled dual infeas =             9.995000\r\n",
      "Iteration:  1314   Scaled dual infeas =             3.430000\r\n",
      "Iteration:  2001   Dual objective     =          5482.654809\r\n",
      "Iteration:  2194   Dual objective     =          5256.879707\r\n",
      "Iteration:  2391   Dual objective     =          5051.610099\r\n",
      "Iteration:  2580   Dual objective     =          4886.622684\r\n",
      "Iteration:  2768   Dual objective     =          4742.451986\r\n",
      "Iteration:  2956   Dual objective     =          4614.875391\r\n",
      "Iteration:  3144   Dual objective     =          4498.856992\r\n",
      "Iteration:  3345   Dual objective     =          4386.849131\r\n",
      "\r\n",
      "Barrier solved model.\r\n",
      "\r\n"
     ]
    }
   ],
   "source": [
    "result = wind_opt()\n",
    "for β in 1:10\n",
    "    push!(result, wind_opt(β)[1,:])\n",
    "end"
   ]
  },
  {
   "cell_type": "code",
   "execution_count": 30,
   "metadata": {},
   "outputs": [
    {
     "name": "stdout",
     "output_type": "stream",
     "text": [
      "\u001b[1m11×11 DataFrame\u001b[0m\n",
      "\u001b[1m Row \u001b[0m│\u001b[1m β       \u001b[0m\u001b[1m p_DA    \u001b[0m\u001b[1m p_15    \u001b[0m\u001b[1m p_ID     \u001b[0m\u001b[1m q_FC    \u001b[0m\u001b[1m q_DA    \u001b[0m\u001b[1m q_15_neg  \u001b[0m\u001b[1m q_15_pos  \u001b[0m\u001b[1m R_mean  \u001b[0m\u001b[1m R_STD   \u001b[0m\u001b[1m CVaR     \u001b[0m\n",
      "\u001b[1m     \u001b[0m│\u001b[90m Float64 \u001b[0m\u001b[90m Float64 \u001b[0m\u001b[90m Float64 \u001b[0m\u001b[90m Float64  \u001b[0m\u001b[90m Float64 \u001b[0m\u001b[90m Float64 \u001b[0m\u001b[90m Float64   \u001b[0m\u001b[90m Float64   \u001b[0m\u001b[90m Float64 \u001b[0m\u001b[90m Float64 \u001b[0m\u001b[90m Float64  \u001b[0m\n",
      "─────┼─────────────────────────────────────────────────────────────────────────────────────────────────────────\n",
      "   1 │     0.0    33.56  12.2324  -8.15295  14.1125  16.2294  -16.2294   -16.2294   540.197  201.134  -30.3736\n",
      "   2 │     1.0    33.56  12.2324  -8.15295  14.1125  16.2294   -7.15872   -5.49267  502.614  116.298  257.947\n",
      "   3 │     2.0    33.56  12.2324  -8.15295  14.1125  16.2294   -7.01732   -5.12226  501.642  114.531  258.657\n",
      "   4 │     3.0    33.56  12.2324  -8.15295  14.1125  16.2294   -6.96728   -4.88425  501.096  113.462  258.877\n",
      "   5 │     4.0    33.56  12.2324  -8.15295  14.1125  16.2294   -6.94399   -4.7339   500.766  112.807  258.972\n",
      "   6 │     5.0    33.56  12.2324  -8.15295  14.1125  16.2294   -6.93382   -4.61158  500.515  112.289  259.028\n",
      "   7 │     6.0    33.56  12.2324  -8.15295  14.1125  16.2294   -6.9258    -4.57281  500.426  112.123  259.044\n",
      "   8 │     7.0    33.56  12.2324  -8.15295  14.1125  16.2294   -6.91886   -4.49671  500.269  111.806  259.069\n",
      "   9 │     8.0    33.56  12.2324  -8.15295  14.1125  16.2294   -6.91341   -4.48331  500.233  111.747  259.073\n",
      "  10 │     9.0    33.56  12.2324  -8.15295  14.1125  16.2294   -6.91089   -4.42383  500.115  111.503  259.087\n",
      "  11 │    10.0    33.56  12.2324  -8.15295  14.1125  16.2294   -6.91082   -4.39376  500.058  111.382  259.093"
     ]
    }
   ],
   "source": [
    "show(result, allcols=true)"
   ]
  },
  {
   "cell_type": "code",
   "execution_count": null,
   "metadata": {},
   "outputs": [],
   "source": []
  },
  {
   "cell_type": "code",
   "execution_count": null,
   "metadata": {},
   "outputs": [],
   "source": []
  },
  {
   "cell_type": "code",
   "execution_count": null,
   "metadata": {},
   "outputs": [],
   "source": []
  }
 ],
 "metadata": {
  "kernelspec": {
   "display_name": "Julia 1.6.3",
   "language": "julia",
   "name": "julia-1.6"
  },
  "language_info": {
   "file_extension": ".jl",
   "mimetype": "application/julia",
   "name": "julia",
   "version": "1.6.3"
  }
 },
 "nbformat": 4,
 "nbformat_minor": 4
}
