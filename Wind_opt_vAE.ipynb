{
 "cells": [
  {
   "cell_type": "code",
   "execution_count": 2,
   "metadata": {},
   "outputs": [
    {
     "name": "stderr",
     "output_type": "stream",
     "text": [
      "\u001b[32m\u001b[1m  Activating\u001b[22m\u001b[39m environment at `C:\\Users\\email\\OneDrive\\Dokumente\\Uni\\Köln\\21WS\\ATIS3\\GroupProject\\ATIES3_group_project-main\\Project.toml`\n"
     ]
    }
   ],
   "source": [
    "using Pkg\n",
    "Pkg.activate(\".\"); \n",
    "Pkg.instantiate()"
   ]
  },
  {
   "cell_type": "code",
   "execution_count": 3,
   "metadata": {},
   "outputs": [],
   "source": [
    "using JuMP, Plots, CPLEX, DataFrames, XLSX, Statistics, Parameters, CSV#, IterTools, StatsPlots"
   ]
  },
  {
   "cell_type": "markdown",
   "metadata": {},
   "source": [
    "# Read in Data"
   ]
  },
  {
   "cell_type": "code",
   "execution_count": 4,
   "metadata": {},
   "outputs": [],
   "source": [
    "data = Dict()\n",
    "data[\"time_series\"] = DataFrame(XLSX.readtable(\"data_ATIS3_new.xlsx\", \"time_series\")...)\n",
    "data[\"p_scenarios\"] = DataFrame(XLSX.readtable(\"data_ATIS3_new.xlsx\", \"s_prices\")...)\n",
    "for h in 1:24\n",
    "    data[\"q_scenarios\", h] = DataFrame(XLSX.readtable(\"data_ATIS3_new.xlsx\", \"s_q_$h\")...)\n",
    "end;"
   ]
  },
  {
   "cell_type": "markdown",
   "metadata": {},
   "source": [
    "# Define Params"
   ]
  },
  {
   "cell_type": "markdown",
   "metadata": {},
   "source": [
    "### Sets"
   ]
  },
  {
   "cell_type": "code",
   "execution_count": 5,
   "metadata": {},
   "outputs": [],
   "source": [
    "# Number of scenarios, devided into FC scenarios and price scenarios\n",
    "Ω_p = length(data[\"p_scenarios\"].delta_15_da)\n",
    "Ω_FC = 2*length(data[\"q_scenarios\", 1].neg)\n",
    "Ω = Ω_FC * Ω_p^2\n",
    "# Number time periods\n",
    "T = 5\n",
    "# Number of hours per day\n",
    "H = 24\n",
    "# Number of FC levels (low, mid, high)\n",
    "L = 3;"
   ]
  },
  {
   "cell_type": "markdown",
   "metadata": {},
   "source": [
    "### Scalars"
   ]
  },
  {
   "cell_type": "code",
   "execution_count": 6,
   "metadata": {},
   "outputs": [],
   "source": [
    "# Initial and final period\n",
    "ti = 745\n",
    "tf = ti + T-1\n",
    "# Maximum deviation of DA bid from FC\n",
    "FC_max_devDA = 0.15\n",
    "# Risk\n",
    "β = 0.0\n",
    "α = 0.95\n",
    "# Scaling factor FC\n",
    "q_FC_scal = 0.025\n",
    "# Scenario probablilities\n",
    "pi = 1/Ω;"
   ]
  },
  {
   "cell_type": "markdown",
   "metadata": {},
   "source": [
    "### Vectors"
   ]
  },
  {
   "cell_type": "code",
   "execution_count": 7,
   "metadata": {},
   "outputs": [],
   "source": [
    "### Length T\n",
    "# Central prices in DA\n",
    "p_DA = data[\"time_series\"][ti:tf,\"p_da\"]\n",
    "# 15 and DA prices are not used in the stochastic approach; p_DA * Δp_ instead\n",
    "#p_15  = data[\"time_series\"][ti:tf,\"p_15\"]\n",
    "#p_ID = data[\"time_series\"][ti:tf,\"p_id3\"]\n",
    "# Power ForeCasted\n",
    "q_FC = data[\"time_series\"].fc_wind_bw[ti:tf] .* q_FC_scal\n",
    "# Forecast specifications; level ϵ [low,mid,high]; hour ϵ [1:24]\n",
    "FC_level = fill(2, T)\n",
    "FC_hour = []\n",
    "FC_day = []\n",
    "hour = 0\n",
    "day = 1\n",
    "for t in 1:T\n",
    "    hour += 1\n",
    "    if hour > 24\n",
    "        hour = 1\n",
    "        day +=1\n",
    "    end\n",
    "    push!(FC_hour, hour)\n",
    "    push!(FC_day, day)\n",
    "    if q_FC[t] <= 250*q_FC_scal\n",
    "        FC_level[t] = 1\n",
    "    elseif q_FC[t] > 1250*q_FC_scal\n",
    "        FC_level[t] = 3\n",
    "    end\n",
    "end\n",
    "\n",
    "### Length Ω_p\n",
    "# Errors 15 and ID prices\n",
    "Δp_15 = data[\"p_scenarios\"].delta_15_da\n",
    "Δp_ID = data[\"p_scenarios\"].delta_id3_da\n",
    "\n",
    "### Length Ω_FC\n",
    "# FC error sign; 1st stage decission\n",
    "FC_sgn = vcat(\n",
    "    fill(1, length(data[\"q_scenarios\", 1].neg)),\n",
    "    fill(2, length(data[\"q_scenarios\", 1].pos)));"
   ]
  },
  {
   "cell_type": "markdown",
   "metadata": {},
   "source": [
    "**Explanation FC_type** \\\n",
    "The value of a forecast q_FC, as well as the hour of the day (time lag between FC and realization)\n",
    "leads to different distributions of the FC error Δq_FC. We distinguish between the levels 1 (low; <250 MW), 2 (mid; 250 MW < Δq_FC < 1250 MW)\n",
    "and 3 (high; > 1250 MW) for the forecasted value and devide the day in 24h. Depending on the period t, we save the hour and the day. Note that our hour has no connection to the \"real\" time. Later on, FC_level[t] and FC_hour[t] is used to select the right column of the forecast error distribution matrix Δq_FC. Concrete: Δq_FC[ω_FC, FC_level[t], FC_hour[t]]."
   ]
  },
  {
   "cell_type": "markdown",
   "metadata": {},
   "source": [
    "### Matrices"
   ]
  },
  {
   "cell_type": "code",
   "execution_count": 8,
   "metadata": {},
   "outputs": [],
   "source": [
    "# Forecast error matrix\n",
    "    # Relative error of the forecast used for each scenario ω ϵ Ω,\n",
    "    # depending on the forecast level F_level being low, mid or high (see text above)\n",
    "    # and the hour of the day h\n",
    "Δq_FC = Array{Float64,3}(undef, Ω_FC, L, H)\n",
    "for h in 1:H\n",
    "    Δq_FC[:,:,h] = cat(\n",
    "        cat(data[\"q_scenarios\", h].neg_u250, data[\"q_scenarios\", h].pos_u250, dims=1),\n",
    "        cat(data[\"q_scenarios\", h].neg, data[\"q_scenarios\", h].pos, dims=1),\n",
    "        cat(data[\"q_scenarios\", h].neg_o1250, data[\"q_scenarios\", h].pos_o1250, dims=1),\n",
    "        dims=2)\n",
    "end\n",
    ";"
   ]
  },
  {
   "cell_type": "markdown",
   "metadata": {},
   "source": [
    "# Model as Function"
   ]
  },
  {
   "cell_type": "code",
   "execution_count": 9,
   "metadata": {},
   "outputs": [],
   "source": [
    "# Read in time dependent Vars\n",
    "function read_timeDepVars(ti,T)\n",
    "    tf = ti+T-1\n",
    "    p_DA = data[\"time_series\"][ti:tf,\"p_da\"]\n",
    "    q_FC = data[\"time_series\"].fc_wind_bw[ti:tf] .* q_FC_scal\n",
    "    FC_level = fill(2, T)\n",
    "    FC_hour = Int[]\n",
    "    FC_day = Int[]\n",
    "    hour = 0\n",
    "    day = 1\n",
    "    for t in 1:T\n",
    "        hour += 1\n",
    "        if hour > 24\n",
    "            hour = 1\n",
    "            day +=1\n",
    "        end\n",
    "        push!(FC_hour, hour)\n",
    "        push!(FC_day, day)\n",
    "        if q_FC[t] <= 250*q_FC_scal\n",
    "            FC_level[t] = 1\n",
    "        elseif q_FC[t] > 1250*q_FC_scal\n",
    "            FC_level[t] = 3\n",
    "        end\n",
    "    end\n",
    "    return p_DA, q_FC, FC_level, FC_hour\n",
    "end;"
   ]
  },
  {
   "cell_type": "code",
   "execution_count": 10,
   "metadata": {},
   "outputs": [],
   "source": [
    "function wind_opt(β=0.0, FC_max_devDA=0.15, ti=300, T=1) # time_cntrl=false, \n",
    "    # Data is read in, if time control is selected (to save time, if not needed)\n",
    "    #if time_cntrl\n",
    "    p_DA, q_FC, FC_level, FC_hour = read_timeDepVars(ti,T)\n",
    "    #end\n",
    "    \n",
    "    result = DataFrame(\n",
    "        β = Float64[],\n",
    "        p_DA = Float64[],\n",
    "        p_15 = Float64[],\n",
    "        p_ID = Float64[],\n",
    "        q_FC = Float64[],\n",
    "        q_DA = Float64[],\n",
    "        q_15_neg = Float64[],\n",
    "        q_15_pos = Float64[],\n",
    "        R_exp = Float64[],\n",
    "        R_STD = Float64[],\n",
    "        CVaR = Float64[],\n",
    "    )\n",
    "    \n",
    "    for t in 1:T\n",
    "        wind = Model(CPLEX.Optimizer)\n",
    "        set_silent(wind)\n",
    "\n",
    "        @variables(wind, begin\n",
    "            # Powers\n",
    "            q_DA >= 0\n",
    "            q_15[1:2]\n",
    "            # Risk\n",
    "            η[1:Ω_FC, 1:Ω_p, 1:Ω_p] >= 0\n",
    "            ζ\n",
    "        end)    \n",
    "\n",
    "        q_r = @expression(wind, [ω_FC in 1:Ω_FC], # Realized power\n",
    "            q_FC[t] * (1 + Δq_FC[ω_FC,FC_level[t],FC_hour[t]]))\n",
    "        p_15 = @expression(wind, [ω_15 in 1:Ω_p], # Realized 15 price\n",
    "            p_DA[t] * (1 + Δp_15[ω_15]))\n",
    "        p_ID = @expression(wind, [ω_ID in 1:Ω_p], # Realized ID price\n",
    "            p_DA[t] * (1 + Δp_ID[ω_ID]))\n",
    "        R = @expression(wind, [ω_FC in 1:Ω_FC, ω_15 in 1:Ω_p, ω_ID in 1:Ω_p], # Revenue\n",
    "            p_DA[t] * q_DA\n",
    "            + p_15[ω_15] * q_15[FC_sgn[ω_FC]]\n",
    "            + p_ID[ω_ID] * (q_r[ω_FC] - q_DA - q_15[FC_sgn[ω_FC]]))\n",
    "        CVaR = @expression(wind, # Risk\n",
    "            (ζ - 1/(1-α) * sum(sum(sum(\n",
    "                        pi*η[ω_FC,ω_15,ω_ID]\n",
    "                    for ω_ID in 1:Ω_p)\n",
    "                for ω_15 in 1:Ω_p)\n",
    "            for ω_FC in 1:Ω_FC)));\n",
    "\n",
    "\n",
    "        @objective(wind, Max,\n",
    "            sum(sum(sum(\n",
    "                        pi*R[ω_FC,ω_15,ω_ID] \n",
    "                    for ω_ID in 1:Ω_p)\n",
    "                for ω_15 in 1:Ω_p)\n",
    "            for ω_FC in 1:Ω_FC)\n",
    "            + β * CVaR);\n",
    "\n",
    "        @constraints(wind, begin\n",
    "            # DA bid within certain percentage of the FC\n",
    "            MinMaxPowerDA, (1-FC_max_devDA)*q_FC[t] <= q_DA <= (1+FC_max_devDA)*q_FC[t]\n",
    "            # Limits for total sold power\n",
    "            MaxPowerTot[ω_FC in 1:Ω_FC], 0 <= q_DA+q_15[FC_sgn[ω_FC]] <= q_r[end]\n",
    "            # Risk\n",
    "            CVaRconstr[ω_FC in 1:Ω_FC, ω_15 in 1:Ω_p, ω_ID in 1:Ω_p],\n",
    "                ζ - R[ω_FC,ω_15,ω_ID] <= η[ω_FC,ω_15,ω_ID]\n",
    "        end)    \n",
    "\n",
    "        optimize!(wind)\n",
    "\n",
    "        push!(result, [\n",
    "            β,\n",
    "            p_DA[t],\n",
    "            Statistics.mean(p_15),\n",
    "            Statistics.mean(p_ID),\n",
    "            q_FC[t],\n",
    "            value.(q_DA),\n",
    "            value.(q_15[1]),\n",
    "            value.(q_15[2]),\n",
    "            Statistics.mean(value.(R[:,:,:])),\n",
    "            Statistics.std(value.(R[:,:,:])),\n",
    "            value.(CVaR)\n",
    "        ])\n",
    "        IJulia.clear_output(true)\n",
    "        println(β)\n",
    "        println(t,\"/\",T)\n",
    "    end\n",
    "    IJulia.clear_output(true)\n",
    "    return result\n",
    "end;"
   ]
  },
  {
   "cell_type": "markdown",
   "metadata": {},
   "source": [
    "24*7=168 \\\n",
    "Mo 2016-02-01 = 745 \\\n",
    "Mo 2016-05-02 = 2928 \\\n",
    "Mo 2016-08-01 = 5112 \\\n",
    "Mo 2016-11-07 = 7465"
   ]
  },
  {
   "cell_type": "code",
   "execution_count": null,
   "metadata": {},
   "outputs": [
    {
     "name": "stdout",
     "output_type": "stream",
     "text": [
      "0.1\n",
      "11/24\n"
     ]
    }
   ],
   "source": [
    "ti = 6864\n",
    "T = 24\n",
    "Β = vcat(vcat(collect(0:0.1:0.3),collect(0.5:0.2:1.3)),collect(1.6:0.3:1.9))\n",
    "okt = Dict()\n",
    "for β in Β\n",
    "    okt[β] = wind_opt(β, 0.15, ti, T)\n",
    "end"
   ]
  },
  {
   "cell_type": "code",
   "execution_count": 86,
   "metadata": {},
   "outputs": [],
   "source": [
    "for β in 0:0.3:2\n",
    "    β_string = string(β)[end-2] * string(β)[end]\n",
    "    CSV.write(\".\\\\okt_beta\\\\beta$β_string.csv\", feb[β])\n",
    "end"
   ]
  },
  {
   "cell_type": "code",
   "execution_count": null,
   "metadata": {},
   "outputs": [],
   "source": [
    "1:10"
   ]
  },
  {
   "cell_type": "code",
   "execution_count": null,
   "metadata": {},
   "outputs": [],
   "source": []
  },
  {
   "cell_type": "code",
   "execution_count": 90,
   "metadata": {},
   "outputs": [
    {
     "data": {
      "text/plain": [
       "(Any[39.11, 40.67, 40.92, 41.25, 37.09, 36.53, 33.19, 32.6, 32.7, 33.15  …  39.29, 36.14, 34.59, 36.92, 35.78, 34.81, 34.43, 34.89, 36.75, 44.68], [1.5562500000000001, 1.4500000000000002, 1.2937500000000002, 1.3062500000000001, 1.5875000000000001, 2.1, 2.7375000000000003, 3.23125, 3.60625, 3.975  …  15.24375, 15.675, 15.83125, 15.0875, 14.625, 14.18125, 13.7125, 13.21875, 12.762500000000001, 12.20625], [1, 1, 1, 1, 1, 1, 1, 1, 1, 1  …  2, 2, 2, 2, 2, 2, 2, 2, 2, 2], [1, 2, 3, 4, 5, 6, 7, 8, 9, 10  …  15, 16, 17, 18, 19, 20, 21, 22, 23, 24])"
      ]
     },
     "execution_count": 90,
     "metadata": {},
     "output_type": "execute_result"
    }
   ],
   "source": [
    "ti = 5000\n",
    "T = 3000\n",
    "p_DA, q_FC, FC_level, FC_hour = read_timeDepVars(ti,T)"
   ]
  },
  {
   "cell_type": "code",
   "execution_count": 91,
   "metadata": {},
   "outputs": [
    {
     "name": "stdout",
     "output_type": "stream",
     "text": [
      "1882\n",
      "1883\n",
      "1884\n",
      "1885\n",
      "1886\n",
      "1887\n"
     ]
    }
   ],
   "source": [
    "for t in 1:T\n",
    "    if FC_level[t] == 3\n",
    "        println(t)\n",
    "    end\n",
    "end"
   ]
  },
  {
   "cell_type": "code",
   "execution_count": 93,
   "metadata": {},
   "outputs": [
    {
     "data": {
      "text/plain": [
       "1267.75"
      ]
     },
     "execution_count": 93,
     "metadata": {},
     "output_type": "execute_result"
    }
   ],
   "source": [
    "q_FC[1882]/0.025"
   ]
  },
  {
   "cell_type": "code",
   "execution_count": 96,
   "metadata": {},
   "outputs": [
    {
     "data": {
      "text/plain": [
       "2016-10-13"
      ]
     },
     "execution_count": 96,
     "metadata": {},
     "output_type": "execute_result"
    }
   ],
   "source": [
    "data[\"time_series\"][6864,\"Begin\"]"
   ]
  },
  {
   "cell_type": "code",
   "execution_count": null,
   "metadata": {},
   "outputs": [],
   "source": [
    "for i in 1:5\n",
    "    println(i)"
   ]
  },
  {
   "cell_type": "code",
   "execution_count": null,
   "metadata": {},
   "outputs": [],
   "source": []
  }
 ],
 "metadata": {
  "kernelspec": {
   "display_name": "Julia 1.6.3",
   "language": "julia",
   "name": "julia-1.6"
  },
  "language_info": {
   "file_extension": ".jl",
   "mimetype": "application/julia",
   "name": "julia",
   "version": "1.6.3"
  }
 },
 "nbformat": 4,
 "nbformat_minor": 4
}
