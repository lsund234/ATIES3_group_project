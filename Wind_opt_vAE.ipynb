{
 "cells": [
  {
   "cell_type": "code",
   "execution_count": 1,
   "metadata": {},
   "outputs": [
    {
     "name": "stderr",
     "output_type": "stream",
     "text": [
      "\u001b[32m\u001b[1m  Activating\u001b[22m\u001b[39m environment at `C:\\Users\\email\\OneDrive\\Dokumente\\Uni\\Köln\\21WS\\ATIS3\\GroupProject\\ATIES3_group_project-main\\Project.toml`\n"
     ]
    }
   ],
   "source": [
    "using Pkg\n",
    "Pkg.activate(\".\"); \n",
    "Pkg.instantiate()"
   ]
  },
  {
   "cell_type": "code",
   "execution_count": 2,
   "metadata": {},
   "outputs": [],
   "source": [
    "using JuMP, Plots, CPLEX, DataFrames, XLSX # IterTools, Statistics, StatsPlots, "
   ]
  },
  {
   "cell_type": "code",
   "execution_count": 3,
   "metadata": {},
   "outputs": [],
   "source": [
    "data = Dict()\n",
    "data[\"time_series\"] = DataFrame(XLSX.readtable(\"data_ATIS3.xlsx\", \"time_series\")...)\n",
    "data[\"scenarios\"] = DataFrame(XLSX.readtable(\"data_ATIS3.xlsx\", \"scenarios\")...) ;"
   ]
  },
  {
   "cell_type": "markdown",
   "metadata": {},
   "source": [
    "Orientiert an C1_Producer_Pool.\n",
    "\n",
    "\\Omega = 100 Szenarien für jede betrachtete Periode t Element 1:T\n",
    "\n",
    "Ich habe die Parameter jetzt nicht in einem Dict gespeichert, weil das das Aufrufen später weniger voluminös macht."
   ]
  },
  {
   "cell_type": "code",
   "execution_count": 4,
   "metadata": {},
   "outputs": [],
   "source": [
    "### Sets ### (or rather, set cardinalities)\n",
    "# Number scenarios\n",
    "Ω = 100\n",
    "# Number time periods\n",
    "T = 10\n",
    "# Initial and final period\n",
    "ti = 100\n",
    "tf = ti + T-1\n",
    "\n",
    "### Scalars ###\n",
    "# Factors to FC that limit DA bids\n",
    "FC_DA_fac_lo = 0.85\n",
    "FC_DA_fac_up = 1.15\n",
    "# Maximum power production\n",
    "q_max = 100\n",
    "\n",
    "### Vectors ###\n",
    "## Length T\n",
    "# Prices in DA, 15 and ID\n",
    "p_DA  = data[\"time_series\"][ti:tf,\"p_da\"]\n",
    "p_15  = data[\"time_series\"][ti:tf,\"p_15\"]\n",
    "p_ID3 = data[\"time_series\"][ti:tf,\"p_id3\"]\n",
    "# Power ForeCasted and real\n",
    "q_FC = data[\"time_series\"].fc_wind_bw[ti:tf]\n",
    "# Forecast type\n",
    "    # The value of a forecast q_FC leads to different distributions of its error Δq_FC.\n",
    "    # We distinguish between low (<250 MW), mid (250 MW < Δq_FC < 1250 MW) and high (> 1250 MW).\n",
    "    # Depending on the forecast q_FC[t] in a period t, we save the forecast type as 1=low,\n",
    "    # 2=mid and 3=high. We expect most entries to be 2=mid.\n",
    "    # Later on, F_type[t] is used to select the right column of the \n",
    "    # forecast error distribution matrix Δq_FC. Concrete: Δq_FC[ω, F_type].\n",
    "    # This way, we only have to save a vector with length T and a matrix with\n",
    "    # dim ω x 3, instead of a matrix with dim ω x T wit many repeating entries.\n",
    "F_type = fill(2, T)\n",
    "for t in 1:T\n",
    "    if q_FC[t] <= 250\n",
    "        F_type[t] = 1\n",
    "    elseif q_FC[t] >= 1250\n",
    "        F_type[t] = 3\n",
    "    end\n",
    "end\n",
    "## Length Ω\n",
    "# FC error sign; 1st stage decission; # of pos and neg scenarios is expected to be the same for low, mid and high\n",
    "F_sgn = vcat(-1 * ones(size(data[\"scenarios\"].neg)), ones(size(data[\"scenarios\"].pos)))\n",
    "# Relative FC errors\n",
    "Δq_FC = vcat(data[\"scenarios\"].neg, data[\"scenarios\"].pos)\n",
    "# Non-anticipativity vector (same 1st stage -> same p_15)\n",
    "A = ones(length(F_sgn)-1)\n",
    "for a in 1:length(F_sgn)-1\n",
    "    if F_sgn[a] != F_sgn[a+1]\n",
    "        A[a] = 0\n",
    "    end\n",
    "end\n",
    "# Scenario probablilities\n",
    "pi = 1/Ω * ones(Ω)\n",
    "\n",
    "\n",
    "### Matrices ###\n",
    "# Forecast error matrix (Ω x 3)\n",
    "    # Relative error of the forecast used for each scenario ω ϵ Ω,\n",
    "    # depending on the forecast type F_type being low, mid or high (see text above)\n",
    "Δq_FC = hcat(\n",
    "    vcat(data[\"scenarios\"].neg_u250, data[\"scenarios\"].pos_u250),\n",
    "    vcat(data[\"scenarios\"].neg, data[\"scenarios\"].pos),\n",
    "    vcat(data[\"scenarios\"].neg_o1250, data[\"scenarios\"].pos_o1250)\n",
    ")\n",
    ";"
   ]
  },
  {
   "cell_type": "code",
   "execution_count": null,
   "metadata": {},
   "outputs": [],
   "source": [
    "ω Ω"
   ]
  },
  {
   "cell_type": "code",
   "execution_count": 5,
   "metadata": {},
   "outputs": [],
   "source": [
    "wind = Model(CPLEX.Optimizer);"
   ]
  },
  {
   "cell_type": "code",
   "execution_count": 6,
   "metadata": {},
   "outputs": [],
   "source": [
    "q_DA = @variable(wind, [1:T]) # No ω dependence due to non-anticipativity!?\n",
    "q_15 = @variable(wind, [1:T, 1:Ω]);\n",
    "# q_ID is in fact not needed, as it only depends on q_DA, q_15 and q_r=q_FC[t]*(1+Δq_FC[ω])"
   ]
  },
  {
   "cell_type": "code",
   "execution_count": 7,
   "metadata": {},
   "outputs": [],
   "source": [
    "# Realized power\n",
    "q_r = @expression(wind, [t in 1:T, ω in 1:Ω],\n",
    "    q_FC[t]*(1+Δq_FC[ω, F_type[t]])\n",
    ")\n",
    "# Revenue\n",
    "R = @expression(wind, [t in 1:T, ω in 1:Ω],\n",
    "    pi[ω]*(\n",
    "        p_DA[t] * q_DA[t]\n",
    "        + p_15[t] * q_15[t, ω]\n",
    "        + p_ID3[t] * (q_r[t, ω] - q_DA[t] - q_15[t, ω])\n",
    "    )\n",
    ");"
   ]
  },
  {
   "cell_type": "code",
   "execution_count": 8,
   "metadata": {},
   "outputs": [],
   "source": [
    "@objective(wind, Max,\n",
    "    sum(sum(R[t,ω] for ω in 1:Ω) for t in 1:T)\n",
    ");"
   ]
  },
  {
   "cell_type": "code",
   "execution_count": 9,
   "metadata": {},
   "outputs": [],
   "source": [
    "# DA bid within 85% and 115% of forecast\n",
    "MinMaxPowerDA = @constraint(wind, [t in 1:T],\n",
    "    0.85*q_FC[t] <= q_DA[t] <= 1.15*q_FC[t]);\n",
    "\n",
    "# Limits for total sold power; max is given by realization of last scenario of each period\n",
    "MaxPowerTot = @constraint(wind, [t in 1:T, ω in 1:Ω],\n",
    "    0 <= q_DA[t]+q_15[t, ω] <= q_r[t,end]); \n",
    "\n",
    "# Non-anticipativity; gets only activated, if 1st stage of two scenarios is equal;\n",
    "# q_15 has to be the same then.\n",
    "nonAnticip = @constraint(wind,[t in 1:T, ω in 1:Ω-1],\n",
    "    A[ω] * (q_15[t,ω]-q_15[t,ω+1]) == 0\n",
    ");"
   ]
  },
  {
   "cell_type": "code",
   "execution_count": 10,
   "metadata": {},
   "outputs": [
    {
     "name": "stdout",
     "output_type": "stream",
     "text": [
      "Version identifier: 20.1.0.0 | 2020-11-10 | 9bedb6d68\n",
      "Tried aggregator 1 time.\n",
      "LP Presolve eliminated 10 rows and 0 columns.\n",
      "Aggregator did 990 substitutions.\n",
      "Reduced LP has 1000 rows, 1030 columns, and 3000 nonzeros.\n",
      "Presolve time = 0.00 sec. (2.14 ticks)\n",
      "Symmetry aggregator did 1990 additional substitutions.\n",
      "Initializing dual steep norms . . .\n",
      "\n",
      "Iteration log . . .\n",
      "Iteration:     1   Scaled dual infeas =            42.540000\n",
      "\n",
      "Dual crossover.\n",
      "  Dual:  Fixing 490 variables.\n",
      "      489 DMoves:  Infeasibility  0.00000000e+00  Objective  6.70171880e+04\n",
      "        0 DMoves:  Infeasibility  0.00000000e+00  Objective  6.70171880e+04\n",
      "  Dual:  Pushed 490, exchanged 0.\n",
      "  Primal:  Fixed no variables.\n"
     ]
    },
    {
     "data": {
      "text/plain": [
       "OPTIMAL::TerminationStatusCode = 1"
      ]
     },
     "execution_count": 10,
     "metadata": {},
     "output_type": "execute_result"
    }
   ],
   "source": [
    "optimize!(wind)\n",
    "termination_status(wind)"
   ]
  },
  {
   "cell_type": "code",
   "execution_count": null,
   "metadata": {},
   "outputs": [],
   "source": []
  },
  {
   "cell_type": "code",
   "execution_count": null,
   "metadata": {},
   "outputs": [],
   "source": []
  },
  {
   "cell_type": "code",
   "execution_count": null,
   "metadata": {},
   "outputs": [],
   "source": []
  },
  {
   "cell_type": "code",
   "execution_count": null,
   "metadata": {},
   "outputs": [],
   "source": [
    "### OLD: Save in Dict\n",
    "par = Dict(\n",
    "    ### Sets (or rather, set cardinalities)\n",
    "    # Number scenarios\n",
    "    :Ω => 100,\n",
    "    # Number time periods\n",
    "    :T => 2,\n",
    "    \n",
    "    ### Scalars\n",
    "    # Factors to FC that limit DA bids\n",
    "    :FC_DA_fac_lo => 0.85,\n",
    "    :FC_DA_fac_up => 1.15,\n",
    "    \n",
    "    ### Vectors ###\n",
    "    ## Length T\n",
    "    # Prices in DA, 15 and ID\n",
    "    :p_DA  => data[\"time_series\"][1:param[:T],\"p_da\"],\n",
    "    :p_15  => data[\"time_series\"][1:param[:T],\"p_15\"],\n",
    "    :p_ID3 => data[\"time_series\"][1:param[:T],\"p_id3\"],\n",
    "    # Power ForeCasted and real\n",
    "    :q_FC => ones(T)\n",
    "    :q_r => ones(T)\n",
    "    ## Length Ω\n",
    "    # FC error sign; 1st stage decission\n",
    "    :F_sgn => append!(-1 * ones(size(data[\"scenarios\"].neg)), ones(size(data[\"scenarios\"].pos))),\n",
    "    # Relative FC errors\n",
    "    :Δq_FC => append!(data[\"scenarios\"].neg, data[\"scenarios\"].pos),\n",
    "    # Scenarios probablilities\n",
    "    :pi => 1/param[:Ω] * ones(param[:Ω]),\n",
    "    \n",
    "    \n",
    ")"
   ]
  },
  {
   "cell_type": "code",
   "execution_count": null,
   "metadata": {},
   "outputs": [],
   "source": [
    "### OLD: Stages kriegen einzelne Nummerierungen\n",
    "par = Dict(\n",
    "    ### Sets (or rather, set cardinalities)\n",
    "    # Number scenarios first stage\n",
    "    :Ω => 2,\n",
    "    # Number scenarios sec stage\n",
    "    :Φ => 50,\n",
    "    # Number time periods\n",
    "    :T => 2,\n",
    "    \n",
    "    ### Scalars\n",
    "    # Factors to FC that limit DA bids\n",
    "    :FC_DA_fac_lo => 0.85,\n",
    "    :FC_DA_fac_up => 1.15,\n",
    "    \n",
    "    ### Vectors\n",
    "    # Prices in DA, 15 and ID\n",
    "    :p_DA  => data[\"time_series\"][1:param[:T],\"p_da\"],\n",
    "    :p_15  => data[\"time_series\"][1:param[:T],\"p_15\"],\n",
    "    :p_ID3 => data[\"time_series\"][1:param[:T],\"p_id3\"],\n",
    "    # Scenarios probablilities\n",
    "    :pi_ω => 1/param[:Ω] * ones(param[:Ω]),\n",
    "    :pi_ϕ => 1/param[:Φ] * ones(param[:Φ]),\n",
    "    # 1st stage decission: Forecast sign\n",
    "    :FC_sgn => [-1, +1],\n",
    "    \n",
    "    \n",
    ");"
   ]
  }
 ],
 "metadata": {
  "kernelspec": {
   "display_name": "Julia 1.6.3",
   "language": "julia",
   "name": "julia-1.6"
  },
  "language_info": {
   "file_extension": ".jl",
   "mimetype": "application/julia",
   "name": "julia",
   "version": "1.6.3"
  }
 },
 "nbformat": 4,
 "nbformat_minor": 4
}
