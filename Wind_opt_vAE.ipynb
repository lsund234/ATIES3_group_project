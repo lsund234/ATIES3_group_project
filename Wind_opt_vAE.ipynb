{
 "cells": [
  {
   "cell_type": "code",
   "execution_count": 1,
   "metadata": {},
   "outputs": [
    {
     "name": "stderr",
     "output_type": "stream",
     "text": [
      "\u001b[32m\u001b[1m  Activating\u001b[22m\u001b[39m environment at `C:\\Users\\email\\OneDrive\\Dokumente\\Uni\\Köln\\21WS\\ATIS3\\GroupProject\\ATIES3_group_project-main\\Project.toml`\n"
     ]
    }
   ],
   "source": [
    "using Pkg\n",
    "Pkg.activate(\".\"); \n",
    "Pkg.instantiate()"
   ]
  },
  {
   "cell_type": "code",
   "execution_count": 4,
   "metadata": {},
   "outputs": [
    {
     "name": "stderr",
     "output_type": "stream",
     "text": [
      "┌ Info: Precompiling JuMP [4076af6c-e467-56ae-b986-b466b2749572]\n",
      "└ @ Base loading.jl:1342\n"
     ]
    }
   ],
   "source": [
    "using JuMP, Plots, CPLEX, DataFrames, XLSX # IterTools, Statistics, StatsPlots, "
   ]
  },
  {
   "cell_type": "code",
   "execution_count": 5,
   "metadata": {},
   "outputs": [],
   "source": [
    "data = Dict()\n",
    "data[\"time_series\"] = DataFrame(XLSX.readtable(\"data_ATIS3.xlsx\", \"time_series\")...)\n",
    "data[\"scenarios\"] = DataFrame(XLSX.readtable(\"data_ATIS3.xlsx\", \"scenarios\")...) ;"
   ]
  },
  {
   "cell_type": "markdown",
   "metadata": {},
   "source": [
    "Orientiert an C1_Producer_Pool.\n",
    "\n",
    "\\Omega = 100 Szenarien für jede betrachtete Periode t Element 1:T\n",
    "\n",
    "Ich habe die Parameter jetzt nicht in einem Dict gespeichert, weil das das Aufrufen später weniger voluminös macht."
   ]
  },
  {
   "cell_type": "code",
   "execution_count": 6,
   "metadata": {},
   "outputs": [],
   "source": [
    "### Sets ### (or rather, set cardinalities)\n",
    "# Number scenarios\n",
    "Ω = 100\n",
    "# Number time periods\n",
    "T = 2\n",
    "\n",
    "### Scalars ###\n",
    "# Factors to FC that limit DA bids\n",
    "FC_DA_fac_lo = 0.85\n",
    "FC_DA_fac_up = 1.15\n",
    "# Maximum power production\n",
    "q_max = 100\n",
    "\n",
    "### Vectors ###\n",
    "## Length T\n",
    "# Prices in DA, 15 and ID\n",
    "p_DA  = data[\"time_series\"][1:T,\"p_da\"]\n",
    "p_15  = data[\"time_series\"][1:T,\"p_15\"]\n",
    "p_ID3 = data[\"time_series\"][1:T,\"p_id3\"]\n",
    "# Power ForeCasted and real\n",
    "q_FC = ones(T)\n",
    "q_r = ones(T)\n",
    "## Length Ω\n",
    "# FC error sign; 1st stage decission\n",
    "F_sgn = vcat(-1 * ones(size(data[\"scenarios\"].neg)), ones(size(data[\"scenarios\"].pos)))\n",
    "# Relative FC errors\n",
    "q_ΔF = vcat(data[\"scenarios\"].neg, data[\"scenarios\"].pos)\n",
    "# Non-anticipativity vector (same 1st stage -> same p_15)\n",
    "A = ones(length(F_sgn)-1)\n",
    "for a in 1:length(F_sgn)-1\n",
    "    if F_sgn[a] != F_sgn[a+1]\n",
    "        A[a] = 0\n",
    "    end\n",
    "end\n",
    "# Scenario probablilities\n",
    "pi = 1/Ω * ones(Ω)\n",
    ";"
   ]
  },
  {
   "cell_type": "code",
   "execution_count": 7,
   "metadata": {},
   "outputs": [],
   "source": [
    "wind = Model(CPLEX.Optimizer);"
   ]
  },
  {
   "cell_type": "code",
   "execution_count": 17,
   "metadata": {},
   "outputs": [],
   "source": [
    "q_DA = @variable(wind, [1:T]) # No ω dependence due to non-anticipativity!?\n",
    "q_15 = @variable(wind, [1:T, 1:Ω]);\n",
    "# q_ID is in fact not needed, as it only depends on q_DA, q_15 and q_r"
   ]
  },
  {
   "cell_type": "code",
   "execution_count": 9,
   "metadata": {},
   "outputs": [],
   "source": [
    "@objective(wind, Max,\n",
    "    sum(\n",
    "        sum(\n",
    "            p_DA[t]*q_DA[t] + p_15[t]*q_15[t, ω] + p_ID3[t]*(q_r[t]-q_DA[t]-q_15[t, ω])\n",
    "        for ω in 1:Ω)\n",
    "    for t in 1:T)\n",
    ");"
   ]
  },
  {
   "cell_type": "code",
   "execution_count": 18,
   "metadata": {},
   "outputs": [],
   "source": [
    "MinMaxPowerDA = @constraint(wind, [t in 1:T],\n",
    "    0 <= q_DA[t] <= q_max);\n",
    "\n",
    "MaxPowerTot = @constraint(wind, [t in 1:T, ω in 1:Ω],\n",
    "    q_DA[t]+q_15[t, ω] <= q_max);\n",
    "\n",
    "# Non-anticipativity; gets only activated, if 1st stage of two scenarios is equal;\n",
    "# q_15 has to be the same then.\n",
    "nonAnticip = @constraint(wind,[t in 1:T, ω in 1:Ω-1],\n",
    "    A[ω] * (q_15[t,ω]-q_15[t,ω+1]) == 0\n",
    ");"
   ]
  },
  {
   "cell_type": "code",
   "execution_count": null,
   "metadata": {},
   "outputs": [],
   "source": []
  },
  {
   "cell_type": "markdown",
   "metadata": {},
   "source": []
  },
  {
   "cell_type": "code",
   "execution_count": null,
   "metadata": {},
   "outputs": [],
   "source": []
  },
  {
   "cell_type": "code",
   "execution_count": null,
   "metadata": {},
   "outputs": [],
   "source": []
  },
  {
   "cell_type": "code",
   "execution_count": null,
   "metadata": {},
   "outputs": [],
   "source": []
  },
  {
   "cell_type": "code",
   "execution_count": null,
   "metadata": {},
   "outputs": [],
   "source": [
    "### OLD: Save in Dict\n",
    "par = Dict(\n",
    "    ### Sets (or rather, set cardinalities)\n",
    "    # Number scenarios\n",
    "    :Ω => 100,\n",
    "    # Number time periods\n",
    "    :T => 2,\n",
    "    \n",
    "    ### Scalars\n",
    "    # Factors to FC that limit DA bids\n",
    "    :FC_DA_fac_lo => 0.85,\n",
    "    :FC_DA_fac_up => 1.15,\n",
    "    \n",
    "    ### Vectors ###\n",
    "    ## Length T\n",
    "    # Prices in DA, 15 and ID\n",
    "    :p_DA  => data[\"time_series\"][1:param[:T],\"p_da\"],\n",
    "    :p_15  => data[\"time_series\"][1:param[:T],\"p_15\"],\n",
    "    :p_ID3 => data[\"time_series\"][1:param[:T],\"p_id3\"],\n",
    "    # Power ForeCasted and real\n",
    "    :q_FC => ones(T)\n",
    "    :q_r => ones(T)\n",
    "    ## Length Ω\n",
    "    # FC error sign; 1st stage decission\n",
    "    :F_sgn => append!(-1 * ones(size(data[\"scenarios\"].neg)), ones(size(data[\"scenarios\"].pos))),\n",
    "    # Relative FC errors\n",
    "    :q_ΔF => append!(data[\"scenarios\"].neg, data[\"scenarios\"].pos),\n",
    "    # Scenarios probablilities\n",
    "    :pi => 1/param[:Ω] * ones(param[:Ω]),\n",
    "    \n",
    "    \n",
    ")"
   ]
  },
  {
   "cell_type": "code",
   "execution_count": null,
   "metadata": {},
   "outputs": [],
   "source": [
    "### OLD: Stages kriegen einzelne Nummerierungen\n",
    "par = Dict(\n",
    "    ### Sets (or rather, set cardinalities)\n",
    "    # Number scenarios first stage\n",
    "    :Ω => 2,\n",
    "    # Number scenarios sec stage\n",
    "    :Φ => 50,\n",
    "    # Number time periods\n",
    "    :T => 2,\n",
    "    \n",
    "    ### Scalars\n",
    "    # Factors to FC that limit DA bids\n",
    "    :FC_DA_fac_lo => 0.85,\n",
    "    :FC_DA_fac_up => 1.15,\n",
    "    \n",
    "    ### Vectors\n",
    "    # Prices in DA, 15 and ID\n",
    "    :p_DA  => data[\"time_series\"][1:param[:T],\"p_da\"],\n",
    "    :p_15  => data[\"time_series\"][1:param[:T],\"p_15\"],\n",
    "    :p_ID3 => data[\"time_series\"][1:param[:T],\"p_id3\"],\n",
    "    # Scenarios probablilities\n",
    "    :pi_ω => 1/param[:Ω] * ones(param[:Ω]),\n",
    "    :pi_ϕ => 1/param[:Φ] * ones(param[:Φ]),\n",
    "    # 1st stage decission: Forecast sign\n",
    "    :FC_sgn => [-1, +1],\n",
    "    \n",
    "    \n",
    ");"
   ]
  }
 ],
 "metadata": {
  "kernelspec": {
   "display_name": "Julia 1.6.3",
   "language": "julia",
   "name": "julia-1.6"
  },
  "language_info": {
   "file_extension": ".jl",
   "mimetype": "application/julia",
   "name": "julia",
   "version": "1.6.3"
  }
 },
 "nbformat": 4,
 "nbformat_minor": 4
}
