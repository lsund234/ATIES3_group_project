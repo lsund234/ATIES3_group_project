{
 "cells": [
  {
   "cell_type": "code",
   "execution_count": 1,
   "metadata": {},
   "outputs": [
    {
     "name": "stderr",
     "output_type": "stream",
     "text": [
      "\u001b[32m\u001b[1m  Activating\u001b[22m\u001b[39m environment at `C:\\Users\\email\\OneDrive\\Dokumente\\Uni\\Köln\\21WS\\ATIS3\\GroupProject\\ATIES3_group_project-main\\Project.toml`\n"
     ]
    }
   ],
   "source": [
    "using Pkg\n",
    "Pkg.activate(\".\"); \n",
    "Pkg.instantiate()"
   ]
  },
  {
   "cell_type": "code",
   "execution_count": 2,
   "metadata": {},
   "outputs": [],
   "source": [
    "using JuMP, Plots, CPLEX, DataFrames, XLSX, Statistics#, IterTools, StatsPlots"
   ]
  },
  {
   "cell_type": "markdown",
   "metadata": {},
   "source": [
    "# Read in Data"
   ]
  },
  {
   "cell_type": "code",
   "execution_count": 3,
   "metadata": {},
   "outputs": [],
   "source": [
    "data = Dict()\n",
    "data[\"time_series\"] = DataFrame(XLSX.readtable(\"data_ATIS3_new.xlsx\", \"time_series\")...)\n",
    "data[\"p_scenarios\"] = DataFrame(XLSX.readtable(\"data_ATIS3_new.xlsx\", \"s_prices\")...)\n",
    "for h in 1:24\n",
    "    data[\"q_scenarios\", h] = DataFrame(XLSX.readtable(\"data_ATIS3_new.xlsx\", \"s_q_$h\")...)\n",
    "end;"
   ]
  },
  {
   "cell_type": "markdown",
   "metadata": {},
   "source": [
    "# Define Params"
   ]
  },
  {
   "cell_type": "markdown",
   "metadata": {},
   "source": [
    "### Sets"
   ]
  },
  {
   "cell_type": "code",
   "execution_count": 4,
   "metadata": {},
   "outputs": [],
   "source": [
    "# Number of scenarios, devided into FC scenarios and price scenarios\n",
    "Ω_p = length(data[\"p_scenarios\"].delta_15_da)\n",
    "Ω_FC = 2*length(data[\"q_scenarios\", 1].neg)\n",
    "Ω = Ω_FC * Ω_p^2\n",
    "# Number time periods\n",
    "T = 1\n",
    "# Number of hours per day\n",
    "H = 24\n",
    "# Number of FC levels (low, mid, high)\n",
    "L = 3;"
   ]
  },
  {
   "cell_type": "markdown",
   "metadata": {},
   "source": [
    "### Scalars"
   ]
  },
  {
   "cell_type": "code",
   "execution_count": 5,
   "metadata": {},
   "outputs": [
    {
     "data": {
      "text/plain": [
       "2.5e-5"
      ]
     },
     "execution_count": 5,
     "metadata": {},
     "output_type": "execute_result"
    }
   ],
   "source": [
    "# Initial and final period\n",
    "ti = 300\n",
    "tf = ti + T-1\n",
    "# Maximum deviation of DA bid from FC\n",
    "FC_max_devDA = 0.15\n",
    "# Risk\n",
    "β = 0.0\n",
    "α = 0.95\n",
    "# Scaling factor FC\n",
    "q_FC_scal = 0.025\n",
    "# Scenario probablilities\n",
    "pi = 1/Ω"
   ]
  },
  {
   "cell_type": "markdown",
   "metadata": {},
   "source": [
    "### Vectors"
   ]
  },
  {
   "cell_type": "code",
   "execution_count": 6,
   "metadata": {},
   "outputs": [],
   "source": [
    "### Length T\n",
    "# Central prices in DA\n",
    "p_DA  = data[\"time_series\"][ti:tf,\"p_da\"]\n",
    "# 15 and DA prices are not used in the stochastic approach; p_DA * Δp_ instead\n",
    "#p_15  = data[\"time_series\"][ti:tf,\"p_15\"]\n",
    "#p_ID = data[\"time_series\"][ti:tf,\"p_id3\"]\n",
    "# Power ForeCasted\n",
    "q_FC = data[\"time_series\"].fc_wind_bw[ti:tf] .* q_FC_scal    \n",
    "# Forecast specifications; level ϵ [low,mid,high]; hour ϵ [1:24]\n",
    "FC_level = fill(2, T)\n",
    "FC_hour = []\n",
    "FC_day = []\n",
    "hour = 0\n",
    "day = 1\n",
    "for t in 1:T\n",
    "    hour += 1\n",
    "    if hour > 24\n",
    "        hour = 1\n",
    "        day +=1\n",
    "    end\n",
    "    push!(FC_hour, hour)\n",
    "    push!(FC_day, day)\n",
    "    if q_FC[t] <= 250*q_FC_scal\n",
    "        FC_level[t] = 1\n",
    "    elseif q_FC[t] > 1250*q_FC_scal\n",
    "        FC_level[t] = 3\n",
    "    end\n",
    "end\n",
    "\n",
    "### Length Ω_p\n",
    "# Errors 15 and ID prices\n",
    "Δp_15 = data[\"p_scenarios\"].delta_15_da\n",
    "Δp_ID = data[\"p_scenarios\"].delta_id3_da\n",
    "\n",
    "### Length Ω_FC\n",
    "# FC error sign; 1st stage decission\n",
    "FC_sgn = vcat(\n",
    "    fill(1, length(data[\"q_scenarios\", 1].neg)),\n",
    "    fill(2, length(data[\"q_scenarios\", 1].pos)));"
   ]
  },
  {
   "cell_type": "markdown",
   "metadata": {},
   "source": [
    "**Explanation FC_type** \\\n",
    "The value of a forecast q_FC, as well as the hour of the day (time lag between FC and realization)\n",
    "leads to different distributions of the FC error Δq_FC. We distinguish between the levels 1 (low; <250 MW), 2 (mid; 250 MW < Δq_FC < 1250 MW)\n",
    "and 3 (high; > 1250 MW) for the forecasted value and devide the day in 24h. Depending on the period t, we save the hour and the day. Note that our hour has no connection to the \"real\" time. Later on, FC_level[t] and FC_hour[t] is used to select the right column of the forecast error distribution matrix Δq_FC. Concrete: Δq_FC[ω_FC, FC_level[t], FC_hour[t]]."
   ]
  },
  {
   "cell_type": "markdown",
   "metadata": {},
   "source": [
    "### Matrices"
   ]
  },
  {
   "cell_type": "code",
   "execution_count": 7,
   "metadata": {},
   "outputs": [],
   "source": [
    "# Forecast error matrix\n",
    "    # Relative error of the forecast used for each scenario ω ϵ Ω,\n",
    "    # depending on the forecast level F_level being low, mid or high (see text above)\n",
    "    # and the hour of the day h\n",
    "Δq_FC = Array{Float64,3}(undef, Ω_FC, L, H)\n",
    "for h in 1:H\n",
    "    Δq_FC[:,:,h] = cat(\n",
    "        cat(data[\"q_scenarios\", h].neg_u250, data[\"q_scenarios\", h].pos_u250, dims=1),\n",
    "        cat(data[\"q_scenarios\", h].neg, data[\"q_scenarios\", h].pos, dims=1),\n",
    "        cat(data[\"q_scenarios\", h].neg_o1250, data[\"q_scenarios\", h].pos_o1250, dims=1),\n",
    "        dims=2)\n",
    "end\n",
    ";"
   ]
  },
  {
   "cell_type": "markdown",
   "metadata": {},
   "source": [
    "# Model - step by step"
   ]
  },
  {
   "cell_type": "code",
   "execution_count": 8,
   "metadata": {},
   "outputs": [],
   "source": [
    "wind = Model(CPLEX.Optimizer);"
   ]
  },
  {
   "cell_type": "code",
   "execution_count": 9,
   "metadata": {},
   "outputs": [],
   "source": [
    "# Power\n",
    "q_DA = @variable(wind, [1:T]) # No ω dependence due to non-anticipativity\n",
    "q_15 = @variable(wind, [1:T, 1:2]) # Only two decissions, depending on the sign of the FC\n",
    "# q_ID is in fact not needed, as it only depends on q_DA, q_15 and q_r=q_FC[t]*(1+Δq_FC[ω])\n",
    "\n",
    "# Risk\n",
    "η = @variable(wind, [1:T, 1:Ω_FC, 1:Ω_p, 1:Ω_p])\n",
    "ζ = @variable(wind, [1:T]);"
   ]
  },
  {
   "cell_type": "code",
   "execution_count": 10,
   "metadata": {},
   "outputs": [],
   "source": [
    "# Realized power\n",
    "q_r = @expression(wind, [t in 1:T, ω_FC in 1:Ω_FC],\n",
    "    q_FC[t] * (1 + Δq_FC[ω_FC,FC_level[t],FC_hour[t]]))\n",
    "# Realized prices\n",
    "p_15 = @expression(wind, [t in 1:T, ω_15 in 1:Ω_p],\n",
    "    p_DA[t] * (1 + Δp_15[ω_15]))\n",
    "p_ID = @expression(wind, [t in 1:T, ω_ID in 1:Ω_p],\n",
    "    p_DA[t] * (1 + Δp_ID[ω_ID]))\n",
    "# Revenue\n",
    "R = @expression(wind, [t in 1:T, ω_FC in 1:Ω_FC, ω_15 in 1:Ω_p, ω_ID in 1:Ω_p],\n",
    "    p_DA[t] * q_DA[t]\n",
    "    + p_15[t,ω_15] * q_15[t,FC_sgn[ω_FC]]\n",
    "    + p_ID[t,ω_ID] * (q_r[t,ω_FC] - q_DA[t] - q_15[t,FC_sgn[ω_FC]]))\n",
    "# Risk\n",
    "CVaR = @expression(wind, [t in 1:T],\n",
    "    (ζ[t] - 1/(1-α) * sum(sum(sum(\n",
    "                pi*η[t,ω_FC,ω_15,ω_ID]\n",
    "            for ω_ID in 1:Ω_p)\n",
    "        for ω_15 in 1:Ω_p)\n",
    "    for ω_FC in 1:Ω_FC)\n",
    "    )\n",
    ");"
   ]
  },
  {
   "cell_type": "code",
   "execution_count": 11,
   "metadata": {},
   "outputs": [],
   "source": [
    "@objective(wind, Max,\n",
    "    sum(sum(sum(sum(\n",
    "                    pi*R[t,ω_FC,ω_15,ω_ID] \n",
    "                for ω_ID in 1:Ω_p)\n",
    "            for ω_15 in 1:Ω_p)\n",
    "        for ω_FC in 1:Ω_FC)\n",
    "        + β * CVaR[t]\n",
    "    for t in 1:T)\n",
    ");"
   ]
  },
  {
   "cell_type": "code",
   "execution_count": 12,
   "metadata": {},
   "outputs": [],
   "source": [
    "# DA bid within certain percentage of the FC\n",
    "MinMaxPowerDA = @constraint(wind, [t in 1:T],\n",
    "    (1-FC_max_devDA) * q_FC[t] <= q_DA[t] <= (1+FC_max_devDA) * q_FC[t]);\n",
    "# Limits for total sold power; max is given by realization of last scenario of each period\n",
    "MaxPowerTot = @constraint(wind, [t in 1:T, ω_FC in 1:Ω_FC],\n",
    "    0 <= q_DA[t]+q_15[t,FC_sgn[ω_FC]] <= q_r[t,end]); \n",
    "# Risk\n",
    "CVaRConst = @constraint(wind, [t in 1:T, ω_FC in 1:Ω_FC, ω_15 in 1:Ω_p, ω_ID in 1:Ω_p],\n",
    "    ζ[t] - R[t,ω_FC,ω_15,ω_ID] <= η[t,ω_FC,ω_15,ω_ID])\n",
    "ηLimLow = @constraint(wind, [t in 1:T, ω_FC in 1:Ω_FC, ω_15 in 1:Ω_p, ω_ID in 1:Ω_p],\n",
    "    η[t,ω_FC,ω_15,ω_ID] >= 0);"
   ]
  },
  {
   "cell_type": "code",
   "execution_count": 13,
   "metadata": {},
   "outputs": [
    {
     "name": "stdout",
     "output_type": "stream",
     "text": [
      "Version identifier: 20.1.0.0 | 2020-11-10 | 9bedb6d68\n",
      "Parallel mode: deterministic, using up to 12 threads for concurrent optimization:\n",
      " * Starting dual Simplex on 1 thread...\n",
      " * Starting Barrier on 10 threads...\n",
      " * Starting primal Simplex on 1 thread...\n",
      "Tried aggregator 1 time.\n",
      "LP Presolve eliminated 80000 rows and 40001 columns.\n",
      "Aggregator did 1 substitutions.\n",
      "Reduced LP has 100 rows, 103 columns, and 300 nonzeros.\n",
      "Presolve time = 0.05 sec. (31.28 ticks)\n",
      "Initializing dual steep norms . . .\n",
      "\n",
      "Iteration log . . .\n",
      "Iteration:     1   Dual objective     =           483.814696\n",
      "\n",
      "Dual simplex solved model.\n",
      "\n"
     ]
    },
    {
     "data": {
      "text/plain": [
       "OPTIMAL::TerminationStatusCode = 1"
      ]
     },
     "execution_count": 13,
     "metadata": {},
     "output_type": "execute_result"
    }
   ],
   "source": [
    "optimize!(wind)\n",
    "termination_status(wind)"
   ]
  },
  {
   "cell_type": "markdown",
   "metadata": {},
   "source": [
    "# Model as Function"
   ]
  },
  {
   "cell_type": "code",
   "execution_count": 14,
   "metadata": {},
   "outputs": [],
   "source": [
    "function wind_opt(β=0.0, FC_max_devDA=0.15, t_i=300, T=1)\n",
    "    wind = Model(CPLEX.Optimizer)\n",
    "    set_silent(wind)\n",
    "\n",
    "    @variables(wind, begin\n",
    "        # Powers\n",
    "        q_DA[1:T] >= 0\n",
    "        q_15[1:T,1:2]\n",
    "        # Risk\n",
    "        η[1:T, 1:Ω_FC, 1:Ω_p, 1:Ω_p] >= 0\n",
    "        ζ[1:T]\n",
    "    end)    \n",
    "    \n",
    "    q_r = @expression(wind, [t in 1:T, ω_FC in 1:Ω_FC], # Realized power\n",
    "        q_FC[t] * (1 + Δq_FC[ω_FC,FC_level[t],FC_hour[t]]))\n",
    "    p_15 = @expression(wind, [t in 1:T, ω_15 in 1:Ω_p], # Realized 15 price\n",
    "        p_DA[t] * (1 + Δp_15[ω_15]))\n",
    "    p_ID = @expression(wind, [t in 1:T, ω_ID in 1:Ω_p], # Realized ID price\n",
    "        p_DA[t] * (1 + Δp_ID[ω_ID]))\n",
    "    R = @expression(wind, [t in 1:T, ω_FC in 1:Ω_FC, ω_15 in 1:Ω_p, ω_ID in 1:Ω_p], # Revenue\n",
    "        p_DA[t] * q_DA[t]\n",
    "        + p_15[t,ω_15] * q_15[t,FC_sgn[ω_FC]]\n",
    "        + p_ID[t,ω_ID] * (q_r[t,ω_FC] - q_DA[t] - q_15[t,FC_sgn[ω_FC]]))\n",
    "    CVaR = @expression(wind, [t in 1:T], # Risk\n",
    "        (ζ[t] - 1/(1-α) * sum(sum(sum(\n",
    "                    pi*η[t,ω_FC,ω_15,ω_ID]\n",
    "                for ω_ID in 1:Ω_p)\n",
    "            for ω_15 in 1:Ω_p)\n",
    "        for ω_FC in 1:Ω_FC)));\n",
    "    \n",
    "    @objective(wind, Max,\n",
    "        sum(sum(sum(sum(\n",
    "                        pi*R[t,ω_FC,ω_15,ω_ID] \n",
    "                    for ω_ID in 1:Ω_p)\n",
    "                for ω_15 in 1:Ω_p)\n",
    "            for ω_FC in 1:Ω_FC)\n",
    "            + β * CVaR[t]\n",
    "        for t in 1:T));\n",
    "\n",
    "    @constraints(wind, begin\n",
    "        # DA bid within certain percentage of the FC\n",
    "        MinMaxPowerDA[t in 1:T], (1-FC_max_devDA) * q_FC[t] <= q_DA[t] <= (1+FC_max_devDA) * q_FC[t]\n",
    "        # Limits for total sold power\n",
    "        MaxPowerTot[t in 1:T, ω_FC in 1:Ω_FC], 0 <= q_DA[t]+q_15[t,FC_sgn[ω_FC]] <= q_r[t,end]\n",
    "        # Risk\n",
    "        CVaRconstr[t in 1:T, ω_FC in 1:Ω_FC, ω_15 in 1:Ω_p, ω_ID in 1:Ω_p],\n",
    "            ζ[t] - R[t,ω_FC,ω_15,ω_ID] <= η[t,ω_FC,ω_15,ω_ID]\n",
    "    end)    \n",
    "    \n",
    "    optimize!(wind)\n",
    "    \n",
    "    result = DataFrame(\n",
    "        β = Float64[],\n",
    "        p_DA = Float64[],\n",
    "        p_15 = Float64[],\n",
    "        p_ID = Float64[],\n",
    "        q_FC = Float64[],\n",
    "        q_DA = Float64[],\n",
    "        q_15_neg = Float64[],\n",
    "        q_15_pos = Float64[],\n",
    "        R_mean = Float64[],\n",
    "        R_STD = Float64[],\n",
    "        CVaR = Float64[],\n",
    "    )\n",
    "    for t in 1:T\n",
    "        push!(result, [\n",
    "            β, p_DA[t], p_15[t], p_ID[t], q_FC[t],\n",
    "            value.(q_DA[t]),\n",
    "            value.(q_15[t,1]),\n",
    "            value.(q_15[t,2]),\n",
    "            Statistics.mean(value.(R[t,:,:,:])),\n",
    "            Statistics.std(value.(R[t,:,:,:])),\n",
    "            value.(CVaR[t])\n",
    "            ])\n",
    "    end\n",
    "    return result\n",
    "end;"
   ]
  },
  {
   "cell_type": "code",
   "execution_count": 15,
   "metadata": {},
   "outputs": [],
   "source": [
    "result = wind_opt()\n",
    "for β in 0.2:0.2:2\n",
    "    push!(result, wind_opt(β)[1,:])\n",
    "end"
   ]
  },
  {
   "cell_type": "code",
   "execution_count": 16,
   "metadata": {},
   "outputs": [
    {
     "name": "stdout",
     "output_type": "stream",
     "text": [
      "\u001b[1m11×11 DataFrame\u001b[0m\n",
      "\u001b[1m Row \u001b[0m│\u001b[1m β       \u001b[0m\u001b[1m p_DA    \u001b[0m\u001b[1m p_15    \u001b[0m\u001b[1m p_ID     \u001b[0m\u001b[1m q_FC    \u001b[0m\u001b[1m q_DA    \u001b[0m\u001b[1m q_15_neg \u001b[0m\u001b[1m q_15_pos \u001b[0m\u001b[1m R_mean  \u001b[0m\u001b[1m R_STD   \u001b[0m\u001b[1m CVaR     \u001b[0m\n",
      "\u001b[1m     \u001b[0m│\u001b[90m Float64 \u001b[0m\u001b[90m Float64 \u001b[0m\u001b[90m Float64 \u001b[0m\u001b[90m Float64  \u001b[0m\u001b[90m Float64 \u001b[0m\u001b[90m Float64 \u001b[0m\u001b[90m Float64  \u001b[0m\u001b[90m Float64  \u001b[0m\u001b[90m Float64 \u001b[0m\u001b[90m Float64 \u001b[0m\u001b[90m Float64  \u001b[0m\n",
      "─────┼───────────────────────────────────────────────────────────────────────────────────────────────────────\n",
      "   1 │     0.0    33.56  14.9117  -8.51317  14.1125  16.2294   8.17523   8.17523  482.14   168.726  -13.3699\n",
      "   2 │     0.2    33.56  14.9117  -8.51317  14.1125  16.2294  -4.38319   7.00063  476.722  128.34   209.735\n",
      "   3 │     0.4    33.56  14.9117  -8.51317  14.1125  16.2294  -5.48994   6.15599  475.953  125.838  212.692\n",
      "   4 │     0.6    33.56  14.9117  -8.51317  14.1125  16.031   -5.42104   5.89513  475.635  124.225  213.3\n",
      "   5 │     0.8    33.56  14.9117  -8.51317  14.1125  14.1096  -3.98167   6.65264  474.154  121.093  215.456\n",
      "   6 │     1.0    33.56  14.9117  -8.51317  14.1125  13.0536  -3.16434   6.73657  473.22   118.802  216.51\n",
      "   7 │     1.2    33.56  14.9117  -8.51317  14.1125  12.5006  -2.71036   6.72434  472.718  117.651  216.969\n",
      "   8 │     1.4    33.56  14.9117  -8.51317  14.1125  12.0264  -2.30357   6.75887  472.313  116.899  217.282\n",
      "   9 │     1.6    33.56  14.9117  -8.51317  14.1125  11.9956  -2.27862   6.61938  472.231  116.531  217.338\n",
      "  10 │     1.8    33.56  14.9117  -8.51317  14.1125  11.9956  -2.27899   6.50435  472.185  116.277  217.364\n",
      "  11 │     2.0    33.56  14.9117  -8.51317  14.1125  11.9956  -2.28657   6.44702  472.159  116.166  217.378"
     ]
    }
   ],
   "source": [
    "show(result, allcols=true)"
   ]
  },
  {
   "cell_type": "code",
   "execution_count": null,
   "metadata": {},
   "outputs": [],
   "source": []
  }
 ],
 "metadata": {
  "kernelspec": {
   "display_name": "Julia 1.6.3",
   "language": "julia",
   "name": "julia-1.6"
  },
  "language_info": {
   "file_extension": ".jl",
   "mimetype": "application/julia",
   "name": "julia",
   "version": "1.6.3"
  }
 },
 "nbformat": 4,
 "nbformat_minor": 4
}
