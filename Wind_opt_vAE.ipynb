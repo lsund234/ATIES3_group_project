{
 "cells": [
  {
   "cell_type": "code",
   "execution_count": 1,
   "metadata": {},
   "outputs": [
    {
     "name": "stderr",
     "output_type": "stream",
     "text": [
      "\u001b[32m\u001b[1m  Activating\u001b[22m\u001b[39m environment at `C:\\Users\\andi\\Documents\\Uni\\Köln\\21WS\\ATIS3\\GroupProject\\ATIES3_group_project-main\\Project.toml`\n"
     ]
    }
   ],
   "source": [
    "using Pkg\n",
    "Pkg.activate(\".\"); \n",
    "Pkg.instantiate()"
   ]
  },
  {
   "cell_type": "code",
   "execution_count": 2,
   "metadata": {},
   "outputs": [],
   "source": [
    "using JuMP, Plots, CPLEX, DataFrames, XLSX, IterTools, Statistics, StatsPlots"
   ]
  },
  {
   "cell_type": "code",
   "execution_count": 3,
   "metadata": {},
   "outputs": [],
   "source": [
    "data = Dict()\n",
    "data[\"time_series\"] = DataFrame(XLSX.readtable(\"data_ATIS3.xlsx\", \"time_series\")...)\n",
    "data[\"scenarios\"] = DataFrame(XLSX.readtable(\"data_ATIS3.xlsx\", \"scenarios\")...) ;"
   ]
  },
  {
   "cell_type": "markdown",
   "metadata": {},
   "source": [
    "Orientiert an C1_Producer_Pool.\n",
    "\n",
    "\\Omega = 100 Szenarien für jede betrachtete Periode t Element 1:T\n",
    "\n",
    "Ich habe die Parameter jetzt nicht in einem Dict gespeichert, weil das das Aufrufen später weniger voluminös macht."
   ]
  },
  {
   "cell_type": "code",
   "execution_count": 35,
   "metadata": {},
   "outputs": [],
   "source": [
    "### Sets ### (or rather, set cardinalities)\n",
    "# Number scenarios\n",
    "Ω = 100\n",
    "# Number time periods\n",
    "T = 1\n",
    "# Initial and final period\n",
    "ti = 4\n",
    "tf = ti + T-1\n",
    "\n",
    "### Scalars ###\n",
    "# Factors to FC that limit DA bids\n",
    "FC_DA_fac_lo = 0.85\n",
    "FC_DA_fac_up = 1.15\n",
    "# Risk\n",
    "β = 0.0\n",
    "α = 0.95\n",
    "# Scaling factor FC\n",
    "q_FC_scal = 0.025\n",
    "\n",
    "### Vectors ###\n",
    "## Length T\n",
    "# Prices in DA, 15 and ID\n",
    "p_DA  = data[\"time_series\"][ti:tf,\"p_da\"]\n",
    "p_15  = data[\"time_series\"][ti:tf,\"p_15\"]\n",
    "p_ID3 = data[\"time_series\"][ti:tf,\"p_id3\"]\n",
    "# Power ForeCasted and real\n",
    "q_FC = data[\"time_series\"].fc_wind_bw[ti:tf] .* q_FC_scal\n",
    "# Forecast type\n",
    "    # The value of a forecast q_FC leads to different distributions of its error Δq_FC.\n",
    "    # We distinguish between low (<250 MW), mid (250 MW < Δq_FC < 1250 MW) and high (> 1250 MW).\n",
    "    # Depending on the forecast q_FC[t] in a period t, we save the forecast type as 1=low,\n",
    "    # 2=mid and 3=high. We expect most entries to be 2=mid.\n",
    "    # Later on, F_type[t] is used to select the right column of the \n",
    "    # forecast error distribution matrix Δq_FC. Concrete: Δq_FC[ω, F_type[t]].\n",
    "    # This way, we only have to save a vector with length T and a matrix with\n",
    "    # dim ω x 3, instead of a matrix with dim ω x T with many repeating entries.\n",
    "F_type = fill(2, T)\n",
    "for t in 1:T\n",
    "    if q_FC[t] <= 250 * q_FC_scal\n",
    "        F_type[t] = 1\n",
    "    elseif q_FC[t] >= 1250 * q_FC_scal\n",
    "        F_type[t] = 3\n",
    "    end\n",
    "end\n",
    "## Length Ω\n",
    "# FC error sign; 1st stage decission; # of pos and neg scenarios is expected to be the same for low, mid and high\n",
    "F_sgn = vcat(-1 * ones(size(data[\"scenarios\"].neg)), ones(size(data[\"scenarios\"].pos)))\n",
    "# Relative FC errors\n",
    "Δq_FC = vcat(data[\"scenarios\"].neg, data[\"scenarios\"].pos)\n",
    "# Non-anticipativity vector (same 1st stage -> same p_15)\n",
    "A = ones(length(F_sgn)-1)\n",
    "for a in 1:length(F_sgn)-1\n",
    "    if F_sgn[a] != F_sgn[a+1]\n",
    "        A[a] = 0\n",
    "    end\n",
    "end\n",
    "# Scenario probablilities\n",
    "pi = 1/Ω * ones(Ω)\n",
    "\n",
    "\n",
    "### Matrices ###\n",
    "# Forecast error matrix (Ω x 3)\n",
    "    # Relative error of the forecast used for each scenario ω ϵ Ω,\n",
    "    # depending on the forecast type F_type being low, mid or high (see text above)\n",
    "Δq_FC = hcat(\n",
    "    vcat(data[\"scenarios\"].neg_u250, data[\"scenarios\"].pos_u250),\n",
    "    vcat(data[\"scenarios\"].neg, data[\"scenarios\"].pos),\n",
    "    vcat(data[\"scenarios\"].neg_o1250, data[\"scenarios\"].pos_o1250))\n",
    ";"
   ]
  },
  {
   "cell_type": "code",
   "execution_count": 5,
   "metadata": {},
   "outputs": [],
   "source": [
    "wind = Model(CPLEX.Optimizer);"
   ]
  },
  {
   "cell_type": "code",
   "execution_count": 6,
   "metadata": {},
   "outputs": [],
   "source": [
    "# Power\n",
    "q_DA = @variable(wind, [1:T]) # No ω dependence due to non-anticipativity!?\n",
    "q_15 = @variable(wind, [1:T, 1:Ω])\n",
    "# q_ID is in fact not needed, as it only depends on q_DA, q_15 and q_r=q_FC[t]*(1+Δq_FC[ω])\n",
    "\n",
    "# Risk\n",
    "η = @variable(wind, [1:T, 1:Ω])\n",
    "ζ = @variable(wind, [1:T]);"
   ]
  },
  {
   "cell_type": "code",
   "execution_count": 7,
   "metadata": {},
   "outputs": [],
   "source": [
    "# Realized power\n",
    "q_r = @expression(wind, [t in 1:T, ω in 1:Ω],\n",
    "    q_FC[t] * (1 + Δq_FC[ω,F_type[t]]))\n",
    "# Revenue\n",
    "R = @expression(wind, [t in 1:T, ω in 1:Ω],\n",
    "    p_DA[t] * q_DA[t]\n",
    "    + p_15[t] * q_15[t,ω]\n",
    "    + p_ID3[t] * (q_r[t,ω] - q_DA[t] - q_15[t, ω]))\n",
    "# Risk\n",
    "CVaR = @expression(wind, [t in 1:T],\n",
    "    (ζ[t] - 1/(1-α) * sum(pi[ω]*η[t,ω] for ω in 1:Ω)));"
   ]
  },
  {
   "cell_type": "code",
   "execution_count": 8,
   "metadata": {},
   "outputs": [],
   "source": [
    "@objective(wind, Max,\n",
    "    sum(sum(pi[ω]*R[t,ω] for ω in 1:Ω) + β * CVaR[t] for t in 1:T));"
   ]
  },
  {
   "cell_type": "code",
   "execution_count": 9,
   "metadata": {},
   "outputs": [],
   "source": [
    "# DA bid within 85% and 115% of forecast\n",
    "MinMaxPowerDA = @constraint(wind, [t in 1:T],\n",
    "    FC_DA_fac_lo*q_FC[t] <= q_DA[t] <= FC_DA_fac_up*q_FC[t]);\n",
    "# Limits for total sold power; max is given by realization of last scenario of each period\n",
    "MaxPowerTot = @constraint(wind, [t in 1:T, ω in 1:Ω],\n",
    "    0 <= q_DA[t]+q_15[t, ω] <= q_r[t,end]); \n",
    "# Non-anticipativity; gets only activated, if 1st stage of two scenarios is equal;\n",
    "# q_15 has to be the same then.\n",
    "nonAnticip = @constraint(wind, [t in 1:T, ω in 1:Ω-1],\n",
    "    A[ω] * (q_15[t,ω]-q_15[t,ω+1]) == 0)\n",
    "# Risk\n",
    "CVaRConst = @constraint(wind, [t in 1:T, ω in 1:Ω],\n",
    "    ζ[t] - R[t,ω] <= η[t,ω])\n",
    "ηLimLow = @constraint(wind, [t in 1:T, ω in 1:Ω],\n",
    "    η[t,ω] >= 0);"
   ]
  },
  {
   "cell_type": "code",
   "execution_count": 10,
   "metadata": {},
   "outputs": [
    {
     "name": "stdout",
     "output_type": "stream",
     "text": [
      "Version identifier: 20.1.0.0 | 2020-11-10 | 9bedb6d68\n",
      "Parallel mode: deterministic, using up to 4 threads for concurrent optimization:\n",
      " * Starting dual Simplex on 1 thread...\n",
      " * Starting Barrier on 3 threads...\n",
      "Tried aggregator 1 time.\n",
      "LP Presolve eliminated 2010 rows and 1010 columns.\n",
      "Aggregator did 990 substitutions.\n",
      "Reduced LP has 1000 rows, 1030 columns, and 3000 nonzeros.\n",
      "Presolve time = 0.01 sec. (3.06 ticks)\n",
      "Symmetry aggregator did 1990 additional substitutions.\n",
      "Initializing dual steep norms . . .\n",
      "\n",
      "Iteration log . . .\n",
      "Iteration:     1   Scaled dual infeas =            52.910000\n",
      "\n",
      "Dual crossover.\n",
      "  Dual:  Fixing 196 variables.\n",
      "      195 DMoves:  Infeasibility  0.00000000e+00  Objective  5.24329058e+03\n",
      "        0 DMoves:  Infeasibility  0.00000000e+00  Objective  5.24329058e+03\n",
      "  Dual:  Pushed 196, exchanged 0.\n",
      "  Primal:  Fixed no variables.\n",
      "\n",
      "Dual simplex solved model.\n",
      "\n"
     ]
    },
    {
     "data": {
      "text/plain": [
       "OPTIMAL::TerminationStatusCode = 1"
      ]
     },
     "execution_count": 10,
     "metadata": {},
     "output_type": "execute_result"
    }
   ],
   "source": [
    "optimize!(wind)\n",
    "termination_status(wind)"
   ]
  },
  {
   "cell_type": "code",
   "execution_count": 11,
   "metadata": {},
   "outputs": [
    {
     "data": {
      "text/plain": [
       "10×100 Matrix{Float64}:\n",
       " 128.253   156.828   174.517   191.3     …  1401.8    1681.91  2365.74\n",
       " 161.909   189.933   207.281   223.739      1410.89   1685.59  2356.23\n",
       " 126.636   155.6     173.53    190.541      1417.53   1701.45  2394.59\n",
       " 140.069   168.281   185.746   202.315      1397.43   1673.98  2349.12\n",
       " 172.109   197.97    213.979   229.167      1324.68   1578.19  2197.06\n",
       "  99.6208  125.389   141.341   156.475   …  1248.07   1500.66  2117.31\n",
       "  86.793   113.84    130.584   146.469      1292.25   1557.38  2204.65\n",
       "  63.7364   87.0627  101.503   115.202      1103.35   1332.01  1890.23\n",
       "  91.5924  114.946   129.404   143.12       1132.44   1361.37  1920.26\n",
       "  50.9645   66.8069   76.6142   85.9184      757.034   912.33  1291.45"
      ]
     },
     "execution_count": 11,
     "metadata": {},
     "output_type": "execute_result"
    }
   ],
   "source": [
    "value.(R)"
   ]
  },
  {
   "cell_type": "markdown",
   "metadata": {},
   "source": [
    "## Model as Function"
   ]
  },
  {
   "cell_type": "code",
   "execution_count": 36,
   "metadata": {},
   "outputs": [],
   "source": [
    "function wind_opt(β=0.0)\n",
    "    wind = Model(CPLEX.Optimizer)\n",
    "    set_silent(wind)\n",
    "\n",
    "    @variables(wind, begin\n",
    "        # Powers\n",
    "        q_DA[1:T] >= 0\n",
    "        q_15[1:T,1:Ω]\n",
    "        # Risk\n",
    "        η[1:T,1:Ω] >= 0\n",
    "        ζ[1:T]\n",
    "    end)\n",
    "    \n",
    "    @expression(wind, q_r[t in 1:T, ω in 1:Ω], q_FC[t] * (1 + Δq_FC[ω,F_type[t]])) # Realized power\n",
    "    @expression(wind, R[t in 1:T, ω in 1:Ω], # Revenue\n",
    "        p_DA[t] * q_DA[t]\n",
    "        + p_15[t] * q_15[t,ω]\n",
    "        + p_ID3[t] * (q_r[t,ω] - q_DA[t] - q_15[t, ω]))\n",
    "    @expression(wind, CVaR[t in 1:T], (ζ[t] - 1/(1-α) * sum(pi[ω]*η[t,ω] for ω in 1:Ω))) # Risk\n",
    "    \n",
    "    @objective(wind, Max, sum(sum(pi[ω]*R[t,ω] for ω in 1:Ω) + β * CVaR[t] for t in 1:T)) #\n",
    "    println(\"β: \", β)\n",
    "    \n",
    "    @constraints(wind, begin\n",
    "        MinMaxPowerDA[t in 1:T], FC_DA_fac_lo*q_FC[t] <= q_DA[t] <= FC_DA_fac_up*q_FC[t]\n",
    "        MaxPowerTot[t in 1:T, ω in 1:Ω], 0 <= q_DA[t]+q_15[t, ω] <= q_r[t,end]\n",
    "        NonAnticip15[t in 1:T, ω in 1:Ω-1], A[ω] * (q_15[t,ω]-q_15[t,ω+1]) == 0\n",
    "        CVaRconstr[t in 1:T, ω in 1:Ω], ζ[t] - R[t,ω] <= η[t,ω]\n",
    "    end)\n",
    "    \n",
    "    optimize!(wind)\n",
    "    \n",
    "    println(\"p_DA \", p_DA[1])\n",
    "    println(\"p_15 \", p_15[1])\n",
    "    println(\"p_ID3 \", p_ID3[1])\n",
    "    println(\"q_FC \", q_FC[1])\n",
    "    println(\"q_DA \", value.(q_DA[1]))\n",
    "    println(\"q_15 \", value.(q_15[1,1]))\n",
    "    println(\"mean R \", Statistics.mean(value.(R[1,1])))\n",
    "    println(\"STD R \", Statistics.std(value.(R[1,1])))\n",
    "    println(\"CVaR \", Statistics.mean(value.(CVaR[:])))\n",
    "    \n",
    "end;"
   ]
  },
  {
   "cell_type": "code",
   "execution_count": 37,
   "metadata": {},
   "outputs": [
    {
     "name": "stdout",
     "output_type": "stream",
     "text": [
      "β: 0.0\n",
      "p_DA 16.81\n",
      "p_15 16.85\n",
      "p_ID3 20.28\n",
      "q_FC 0.0\n",
      "q_DA 0.0\n",
      "q_15 0.0\n",
      "mean R 0.0\n",
      "STD R NaN\n",
      "CVaR 0.0\n"
     ]
    }
   ],
   "source": [
    "wind_opt()"
   ]
  },
  {
   "cell_type": "code",
   "execution_count": 38,
   "metadata": {},
   "outputs": [
    {
     "name": "stdout",
     "output_type": "stream",
     "text": [
      "β: 10\n",
      "p_DA 16.81\n",
      "p_15 16.85\n",
      "p_ID3 20.28\n",
      "q_FC 0.0\n",
      "q_DA 0.0\n",
      "q_15 0.0\n",
      "mean R 0.0\n",
      "STD R NaN\n",
      "CVaR 0.0\n"
     ]
    }
   ],
   "source": [
    "wind_opt(10)"
   ]
  },
  {
   "cell_type": "code",
   "execution_count": null,
   "metadata": {},
   "outputs": [],
   "source": []
  },
  {
   "cell_type": "code",
   "execution_count": null,
   "metadata": {},
   "outputs": [],
   "source": []
  },
  {
   "cell_type": "code",
   "execution_count": null,
   "metadata": {},
   "outputs": [],
   "source": []
  },
  {
   "cell_type": "code",
   "execution_count": null,
   "metadata": {},
   "outputs": [],
   "source": [
    "### OLD: Save in Dict\n",
    "par = Dict(\n",
    "    ### Sets (or rather, set cardinalities)\n",
    "    # Number scenarios\n",
    "    :Ω => 100,\n",
    "    # Number time periods\n",
    "    :T => 2,\n",
    "    \n",
    "    ### Scalars\n",
    "    # Factors to FC that limit DA bids\n",
    "    :FC_DA_fac_lo => 0.85,\n",
    "    :FC_DA_fac_up => 1.15,\n",
    "    \n",
    "    ### Vectors ###\n",
    "    ## Length T\n",
    "    # Prices in DA, 15 and ID\n",
    "    :p_DA  => data[\"time_series\"][1:param[:T],\"p_da\"],\n",
    "    :p_15  => data[\"time_series\"][1:param[:T],\"p_15\"],\n",
    "    :p_ID3 => data[\"time_series\"][1:param[:T],\"p_id3\"],\n",
    "    # Power ForeCasted and real\n",
    "    :q_FC => ones(T)\n",
    "    :q_r => ones(T)\n",
    "    ## Length Ω\n",
    "    # FC error sign; 1st stage decission\n",
    "    :F_sgn => append!(-1 * ones(size(data[\"scenarios\"].neg)), ones(size(data[\"scenarios\"].pos))),\n",
    "    # Relative FC errors\n",
    "    :Δq_FC => append!(data[\"scenarios\"].neg, data[\"scenarios\"].pos),\n",
    "    # Scenarios probablilities\n",
    "    :pi => 1/param[:Ω] * ones(param[:Ω]),\n",
    "    \n",
    "    \n",
    ")"
   ]
  },
  {
   "cell_type": "code",
   "execution_count": null,
   "metadata": {},
   "outputs": [],
   "source": [
    "### OLD: Stages kriegen einzelne Nummerierungen\n",
    "par = Dict(\n",
    "    ### Sets (or rather, set cardinalities)\n",
    "    # Number scenarios first stage\n",
    "    :Ω => 2,\n",
    "    # Number scenarios sec stage\n",
    "    :Φ => 50,\n",
    "    # Number time periods\n",
    "    :T => 2,\n",
    "    \n",
    "    ### Scalars\n",
    "    # Factors to FC that limit DA bids\n",
    "    :FC_DA_fac_lo => 0.85,\n",
    "    :FC_DA_fac_up => 1.15,\n",
    "    \n",
    "    ### Vectors\n",
    "    # Prices in DA, 15 and ID\n",
    "    :p_DA  => data[\"time_series\"][1:param[:T],\"p_da\"],\n",
    "    :p_15  => data[\"time_series\"][1:param[:T],\"p_15\"],\n",
    "    :p_ID3 => data[\"time_series\"][1:param[:T],\"p_id3\"],\n",
    "    # Scenarios probablilities\n",
    "    :pi_ω => 1/param[:Ω] * ones(param[:Ω]),\n",
    "    :pi_ϕ => 1/param[:Φ] * ones(param[:Φ]),\n",
    "    # 1st stage decission: Forecast sign\n",
    "    :FC_sgn => [-1, +1],\n",
    "    \n",
    "    \n",
    ");"
   ]
  }
 ],
 "metadata": {
  "kernelspec": {
   "display_name": "Julia 1.6.4",
   "language": "julia",
   "name": "julia-1.6"
  },
  "language_info": {
   "file_extension": ".jl",
   "mimetype": "application/julia",
   "name": "julia",
   "version": "1.6.4"
  }
 },
 "nbformat": 4,
 "nbformat_minor": 4
}
