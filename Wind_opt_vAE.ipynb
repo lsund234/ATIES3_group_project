{
 "cells": [
  {
   "cell_type": "code",
   "execution_count": 1,
   "metadata": {},
   "outputs": [
    {
     "name": "stderr",
     "output_type": "stream",
     "text": [
      "\u001b[32m\u001b[1m  Activating\u001b[22m\u001b[39m environment at `C:\\Users\\email\\OneDrive\\Dokumente\\Uni\\Köln\\21WS\\ATIS3\\GroupProject\\ATIES3_group_project-main\\Project.toml`\n"
     ]
    }
   ],
   "source": [
    "using Pkg\n",
    "Pkg.activate(\".\"); \n",
    "Pkg.instantiate()"
   ]
  },
  {
   "cell_type": "code",
   "execution_count": 2,
   "metadata": {},
   "outputs": [],
   "source": [
    "using JuMP, Plots, CPLEX, DataFrames, XLSX, Statistics#, IterTools, StatsPlots"
   ]
  },
  {
   "cell_type": "markdown",
   "metadata": {},
   "source": [
    "# Read in Data"
   ]
  },
  {
   "cell_type": "code",
   "execution_count": 18,
   "metadata": {},
   "outputs": [],
   "source": [
    "data = Dict()\n",
    "data[\"time_series\"] = DataFrame(XLSX.readtable(\"data_ATIS3.xlsx\", \"time_series\")...)\n",
    "data[\"p_scenarios\"] = DataFrame(XLSX.readtable(\"data_ATIS3_new.xlsx\", \"s_prices\")...)\n",
    "for h in 1:24\n",
    "    data[\"q_scenarios\", h] = DataFrame(XLSX.readtable(\"data_ATIS3_new.xlsx\", \"s_q_$h\")...)\n",
    "end;"
   ]
  },
  {
   "cell_type": "markdown",
   "metadata": {},
   "source": [
    "# Define Params"
   ]
  },
  {
   "cell_type": "markdown",
   "metadata": {},
   "source": [
    "### Sets"
   ]
  },
  {
   "cell_type": "code",
   "execution_count": null,
   "metadata": {},
   "outputs": [],
   "source": [
    "# Number of scenarios, devided into FC scenarios and price scenarios\n",
    "Ω_p = length(data[\"p_scenarios\"].delta_15_da)\n",
    "Ω_FC = 2*length(data[\"q_scenarios\", 1].neg)\n",
    "Ω = Ω_FC * Ω_p^2\n",
    "# Number time periods\n",
    "T = 1\n",
    "# Number of hours per day\n",
    "H = 24\n",
    "# Number of FC levels (low, mid, high)\n",
    "L = 3"
   ]
  },
  {
   "cell_type": "markdown",
   "metadata": {},
   "source": [
    "### Scalars"
   ]
  },
  {
   "cell_type": "code",
   "execution_count": null,
   "metadata": {},
   "outputs": [],
   "source": [
    "# Initial and final period\n",
    "ti = 300\n",
    "tf = ti + T-1\n",
    "# Factors to FC that limit DA bids\n",
    "FC_DA_fac_lo = 0.85\n",
    "FC_DA_fac_up = 1.15\n",
    "# Risk\n",
    "β = 0.0\n",
    "α = 0.95\n",
    "# Scaling factor FC\n",
    "q_FC_scal = 0.025\n",
    "# Scenario probablilities\n",
    "pi = 1/Ω"
   ]
  },
  {
   "cell_type": "markdown",
   "metadata": {},
   "source": [
    "### Vectors"
   ]
  },
  {
   "cell_type": "code",
   "execution_count": 90,
   "metadata": {},
   "outputs": [],
   "source": [
    "### Length T\n",
    "# Central prices in DA, 15 and ID\n",
    "p_DA  = data[\"time_series\"][ti:tf,\"p_da\"]\n",
    "p_15_centre  = data[\"time_series\"][ti:tf,\"p_15\"]\n",
    "p_ID_centre = data[\"time_series\"][ti:tf,\"p_id3\"]\n",
    "# Power ForeCasted\n",
    "q_FC = data[\"time_series\"].fc_wind_bw[ti:tf] .* q_FC_scal    \n",
    "# Forecast type\n",
    "FC_type = []\n",
    "hour = 0\n",
    "day = 1\n",
    "for t in 1:T\n",
    "    hour += 1\n",
    "    if hour > 24\n",
    "        hour = 1\n",
    "        day +=1\n",
    "    end\n",
    "    if q_FC[t] <= 250*q_FC_scal\n",
    "        push!(FC_type, Dict(\"level\" => 1, \"day\" => day, \"hour\" => hour))\n",
    "    elseif 250*q_FC_scal < q_FC[t] <= 1250*q_FC_scal\n",
    "        push!(FC_type, Dict(\"level\" => 2, \"day\" => day, \"hour\" => hour))\n",
    "    elseif q_FC[t] > 1250*q_FC_scal\n",
    "        push!(FC_type, Dict(\"level\" => 3, \"day\" => day, \"hour\" => hour))\n",
    "    else\n",
    "        error(message::\"FCTypeNotFound\")\n",
    "    end\n",
    "end\n",
    "\n",
    "### Length Ω_p\n",
    "# Errors 15 and ID prices\n",
    "Δp_15 = data[\"p_scenarios\"].delta_15_da\n",
    "Δp_ID = data[\"p_scenarios\"].delta_id3_da\n",
    "\n",
    "### Length Ω_FC\n",
    "# FC error sign; 1st stage decission\n",
    "    fill(1, length(data[\"q_scenarios\", 1].neg)),\n",
    "    fill(2, length(data[\"q_scenarios\", 1].pos)));"
   ]
  },
  {
   "cell_type": "markdown",
   "metadata": {},
   "source": [
    "**Explanation FC_type** \\\n",
    "The value of a forecast q_FC, as well as the hour of the day (time lag between FC and realization)\n",
    "leads to different distributions of the FC error Δq_FC.\n",
    "We distinguish between low (<250 MW), mid (250 MW < Δq_FC < 1250 MW)\n",
    "and high (> 1250 MW) for the forecasted value and devide the day in 24h.\n",
    "Depending on the forecast value q_FC[t] in a period t, we save the forecast type as 1=low,\n",
    "2=mid and 3=high. Depending on the period t, we save the hour h. Note that our hour has no connection to the \"real\" time. Later on, F_type[t] is used to select the right column of the forecast error\n",
    "distribution matrix Δq_FC. Concrete: Δq_FC[ω_FC, F_type[t][\"level\"], F_type[t][\"hour\"]]."
   ]
  },
  {
   "cell_type": "markdown",
   "metadata": {},
   "source": [
    "### Matrices"
   ]
  },
  {
   "cell_type": "code",
   "execution_count": null,
   "metadata": {},
   "outputs": [],
   "source": [
    "# Forecast error matrix (Ω x 3)\n",
    "    # Relative error of the forecast used for each scenario ω ϵ Ω,\n",
    "    # depending on the forecast type F_type being low, mid or high (see text above)\n",
    "Δq_FC = Array{Float64,3}(undef, Ω_FC, L, H)\n",
    "for h in 1:H\n",
    "    Δq_FC[:,:,h] = cat(\n",
    "        cat(data[\"q_scenarios\", h].neg_u250, data[\"q_scenarios\", h].pos_u250, dims=1),\n",
    "        cat(data[\"q_scenarios\", h].neg, data[\"q_scenarios\", h].pos, dims=1),\n",
    "        cat(data[\"q_scenarios\", h].neg_o1250, data[\"q_scenarios\", h].pos_o1250, dims=1),\n",
    "        dims=2)\n",
    "end\n",
    ";"
   ]
  },
  {
   "cell_type": "markdown",
   "metadata": {},
   "source": [
    "### Some Notes\n",
    "\n",
    "**Indices**\n",
    "* t = period\n",
    "* h = hour\n",
    "* l = level\n",
    "* $\\omega$ = scenario\n",
    "* $\\omega_{FC}$ = FC scenario\n",
    "\n",
    "**Dimensions**\n",
    "* Δq_FC ($\\Omega$ x L x H)\n",
    "* q_DA (T)\n",
    "* q_15 (T x $\\Omega$)\n",
    "* FC_type (T x Dict(\"day\", \"hour\", \"level\"))\n",
    "* $\\eta$ (T x $\\Omega_{FC}$ x $\\Omega_{15}$ x $\\Omega_{ID}$)"
   ]
  },
  {
   "cell_type": "markdown",
   "metadata": {},
   "source": [
    "# Model - step by step"
   ]
  },
  {
   "cell_type": "code",
   "execution_count": 52,
   "metadata": {},
   "outputs": [],
   "source": [
    "wind = Model(CPLEX.Optimizer);"
   ]
  },
  {
   "cell_type": "code",
   "execution_count": 55,
   "metadata": {},
   "outputs": [],
   "source": [
    "# Power\n",
    "q_DA = @variable(wind, [1:T]) # No ω dependence due to non-anticipativity\n",
    "q_15 = @variable(wind, [1:T, 1:2]) # Only two decissions, depending on the sign of the FC\n",
    "# q_ID is in fact not needed, as it only depends on q_DA, q_15 and q_r=q_FC[t]*(1+Δq_FC[ω])\n",
    "\n",
    "# Risk\n",
    "η = @variable(wind, [1:T, 1:Ω_FC, 1:Ω_p, 1:Ω_p])\n",
    "ζ = @variable(wind, [1:T]);"
   ]
  },
  {
   "cell_type": "code",
   "execution_count": 56,
   "metadata": {},
   "outputs": [],
   "source": [
    "# Realized power\n",
    "q_r = @expression(wind, [t in 1:T, ω_FC in 1:Ω_FC],\n",
    "    q_FC[t] * (1 + Δq_FC[ω_FC,FC_type[t][\"level\"],FC_type[t][\"hour\"]]))\n",
    "# Realized prices\n",
    "p_15 = @expression(wind, [t in 1:T, ω_15 in 1:Ω_p],\n",
    "    p_15_centre[t] * (1 + Δp_15[ω_15]))\n",
    "p_ID = @expression(wind, [t in 1:T, ω_ID in 1:Ω_p],\n",
    "    p_ID_centre[t] * (1 + Δp_ID[ω_ID]))\n",
    "# Revenue\n",
    "R = @expression(wind, [t in 1:T, ω_FC in 1:Ω_FC, ω_15 in 1:Ω_p, ω_ID in 1:Ω_p],\n",
    "    p_DA[t] * q_DA[t]\n",
    "    + p_15[t,ω_15] * q_15[t,F_sgn[ω_FC]]\n",
    "    + p_ID[t,ω_ID] * (q_r[t,ω_FC] - q_DA[t] - q_15[t,F_sgn[ω_FC]]))\n",
    "# Risk\n",
    "CVaR = @expression(wind, [t in 1:T],\n",
    "    (ζ[t] - 1/(1-α) * sum(sum(sum(\n",
    "                pi*η[t,ω_FC,ω_15,ω_ID]\n",
    "            for ω_ID in 1:Ω_p)\n",
    "        for ω_15 in 1:Ω_p)\n",
    "    for ω_FC in 1:Ω_FC)\n",
    "    )\n",
    ");"
   ]
  },
  {
   "cell_type": "code",
   "execution_count": 57,
   "metadata": {},
   "outputs": [],
   "source": [
    "@objective(wind, Max,\n",
    "    sum(sum(sum(sum(\n",
    "                    pi*R[t,ω_FC,ω_15,ω_ID] \n",
    "                for ω_ID in 1:Ω_p)\n",
    "            for ω_15 in 1:Ω_p)\n",
    "        for ω_FC in 1:Ω_FC)\n",
    "        + β * CVaR[t]\n",
    "    for t in 1:T)\n",
    ");"
   ]
  },
  {
   "cell_type": "code",
   "execution_count": 58,
   "metadata": {},
   "outputs": [],
   "source": [
    "# DA bid within 85% and 115% of forecast\n",
    "MinMaxPowerDA = @constraint(wind, [t in 1:T],\n",
    "    FC_DA_fac_lo*q_FC[t] <= q_DA[t] <= FC_DA_fac_up*q_FC[t]);\n",
    "# Limits for total sold power; max is given by realization of last scenario of each period\n",
    "MaxPowerTot = @constraint(wind, [t in 1:T, ω_FC in 1:Ω_FC],\n",
    "    0 <= q_DA[t]+q_15[t,F_sgn[ω_FC]] <= q_r[t,end]); \n",
    "# Risk\n",
    "CVaRConst = @constraint(wind, [t in 1:T, ω_FC in 1:Ω_FC, ω_15 in 1:Ω_p, ω_ID in 1:Ω_p],\n",
    "    ζ[t] - R[t,ω_FC,ω_15,ω_ID] <= η[t,ω_FC,ω_15,ω_ID])\n",
    "ηLimLow = @constraint(wind, [t in 1:T, ω_FC in 1:Ω_FC, ω_15 in 1:Ω_p, ω_ID in 1:Ω_p],\n",
    "    η[t,ω_FC,ω_15,ω_ID] >= 0);"
   ]
  },
  {
   "cell_type": "code",
   "execution_count": 59,
   "metadata": {},
   "outputs": [
    {
     "name": "stdout",
     "output_type": "stream",
     "text": [
      "Version identifier: 20.1.0.0 | 2020-11-10 | 9bedb6d68\n",
      "Parallel mode: deterministic, using up to 12 threads for concurrent optimization:\n",
      " * Starting dual Simplex on 1 thread...\n",
      " * Starting Barrier on 10 threads...\n",
      " * Starting primal Simplex on 1 thread...\n",
      "Tried aggregator 1 time.\n",
      "LP Presolve eliminated 801010 rows and 801090 columns.\n",
      "All rows and columns eliminated.\n",
      "Presolve time = 0.45 sec. (330.69 ticks)\n",
      "\n",
      "Dual simplex solved model.\n",
      "\n"
     ]
    },
    {
     "data": {
      "text/plain": [
       "OPTIMAL::TerminationStatusCode = 1"
      ]
     },
     "execution_count": 59,
     "metadata": {},
     "output_type": "execute_result"
    }
   ],
   "source": [
    "optimize!(wind)\n",
    "termination_status(wind)"
   ]
  },
  {
   "cell_type": "markdown",
   "metadata": {},
   "source": [
    "# Model as Function"
   ]
  },
  {
   "cell_type": "code",
   "execution_count": 110,
   "metadata": {},
   "outputs": [],
   "source": [
    "function wind_opt(β=0.0)\n",
    "    wind = Model(CPLEX.Optimizer)\n",
    "    set_silent(wind)\n",
    "\n",
    "    @variables(wind, begin\n",
    "        # Powers\n",
    "        q_DA[1:T] >= 0\n",
    "        q_15[1:T,1:2]\n",
    "        # Risk\n",
    "        η[1:T, 1:Ω_FC, 1:Ω_p, 1:Ω_p] >= 0\n",
    "        ζ[1:T]\n",
    "    end)    \n",
    "    \n",
    "    q_r = @expression(wind, [t in 1:T, ω_FC in 1:Ω_FC], # Realized power\n",
    "        q_FC[t] * (1 + Δq_FC[ω_FC,FC_type[t][\"level\"],FC_type[t][\"hour\"]]))\n",
    "    p_15 = @expression(wind, [t in 1:T, ω_15 in 1:Ω_p], # Realized 15 price\n",
    "        p_15_centre[t] * (1 + Δp_15[ω_15]))\n",
    "    p_ID = @expression(wind, [t in 1:T, ω_ID in 1:Ω_p], # Realized ID price\n",
    "        p_ID_centre[t] * (1 + Δp_ID[ω_ID]))\n",
    "    R = @expression(wind, [t in 1:T, ω_FC in 1:Ω_FC, ω_15 in 1:Ω_p, ω_ID in 1:Ω_p], # Revenue\n",
    "        p_DA[t] * q_DA[t]\n",
    "        + p_15[t,ω_15] * q_15[t,F_sgn[ω_FC]]\n",
    "        + p_ID[t,ω_ID] * (q_r[t,ω_FC] - q_DA[t] - q_15[t,F_sgn[ω_FC]]))\n",
    "    CVaR = @expression(wind, [t in 1:T], # Risk\n",
    "        (ζ[t] - 1/(1-α) * sum(sum(sum(\n",
    "                    pi*η[t,ω_FC,ω_15,ω_ID]\n",
    "                for ω_ID in 1:Ω_p)\n",
    "            for ω_15 in 1:Ω_p)\n",
    "        for ω_FC in 1:Ω_FC)));\n",
    "    \n",
    "    @objective(wind, Max,\n",
    "        sum(sum(sum(sum(\n",
    "                        pi*R[t,ω_FC,ω_15,ω_ID] \n",
    "                    for ω_ID in 1:Ω_p)\n",
    "                for ω_15 in 1:Ω_p)\n",
    "            for ω_FC in 1:Ω_FC)\n",
    "            + β * CVaR[t]\n",
    "        for t in 1:T));\n",
    "\n",
    "    @constraints(wind, begin\n",
    "        MinMaxPowerDA[t in 1:T], FC_DA_fac_lo*q_FC[t] <= q_DA[t] <= FC_DA_fac_up*q_FC[t]\n",
    "        MaxPowerTot[t in 1:T, ω_FC in 1:Ω_FC], 0 <= q_DA[t]+q_15[t,F_sgn[ω_FC]] <= q_r[t,end]\n",
    "        CVaRconstr[t in 1:T, ω_FC in 1:Ω_FC, ω_15 in 1:Ω_p, ω_ID in 1:Ω_p],\n",
    "            ζ[t] - R[t,ω_FC,ω_15,ω_ID] <= η[t,ω_FC,ω_15,ω_ID]\n",
    "    end)    \n",
    "    \n",
    "    optimize!(wind)\n",
    "    \n",
    "    result = DataFrame(\n",
    "        β = Float64[],\n",
    "        p_DA = Float64[],\n",
    "        p_15 = Float64[],\n",
    "        p_ID = Float64[],\n",
    "        q_FC = Float64[],\n",
    "        q_DA = Float64[],\n",
    "        q_15_neg = Float64[],\n",
    "        q_15_pos = Float64[],\n",
    "        R_mean = Float64[],\n",
    "        R_STD = Float64[],\n",
    "        CVaR = Float64[],\n",
    "    )\n",
    "    for t in 1:T\n",
    "        push!(result, [\n",
    "            β, p_DA[t], p_15[t], p_ID[t], q_FC[t],\n",
    "            value.(q_DA[t]),\n",
    "            value.(q_15[t,1]),\n",
    "            value.(q_15[t,2]),\n",
    "            Statistics.mean(value.(R[t,:,:,:])),\n",
    "            Statistics.std(value.(R[t,:,:,:])),\n",
    "            value.(CVaR[t])\n",
    "            ])\n",
    "    end\n",
    "    return result\n",
    "end;"
   ]
  },
  {
   "cell_type": "code",
   "execution_count": 122,
   "metadata": {},
   "outputs": [],
   "source": [
    "result = wind_opt()\n",
    "for β in 1:10\n",
    "    push!(result, wind_opt(β)[1,:])\n",
    "end"
   ]
  },
  {
   "cell_type": "code",
   "execution_count": 123,
   "metadata": {},
   "outputs": [
    {
     "data": {
      "text/html": [
       "<div class=\"data-frame\"><p>11 rows × 11 columns (omitted printing of 2 columns)</p><table class=\"data-frame\"><thead><tr><th></th><th>β</th><th>p_DA</th><th>p_15</th><th>p_ID</th><th>q_FC</th><th>q_DA</th><th>q_15_neg</th><th>q_15_pos</th><th>R_mean</th></tr><tr><th></th><th title=\"Float64\">Float64</th><th title=\"Float64\">Float64</th><th title=\"Float64\">Float64</th><th title=\"Float64\">Float64</th><th title=\"Float64\">Float64</th><th title=\"Float64\">Float64</th><th title=\"Float64\">Float64</th><th title=\"Float64\">Float64</th><th title=\"Float64\">Float64</th></tr></thead><tbody><tr><th>1</th><td>0.0</td><td>33.56</td><td>12.2324</td><td>-8.15295</td><td>14.1125</td><td>16.2294</td><td>-16.2294</td><td>-16.2294</td><td>540.197</td></tr><tr><th>2</th><td>1.0</td><td>33.56</td><td>12.2324</td><td>-8.15295</td><td>14.1125</td><td>16.2294</td><td>-7.15872</td><td>-5.49267</td><td>502.614</td></tr><tr><th>3</th><td>2.0</td><td>33.56</td><td>12.2324</td><td>-8.15295</td><td>14.1125</td><td>16.2294</td><td>-7.01732</td><td>-5.12226</td><td>501.642</td></tr><tr><th>4</th><td>3.0</td><td>33.56</td><td>12.2324</td><td>-8.15295</td><td>14.1125</td><td>16.2294</td><td>-6.96728</td><td>-4.88425</td><td>501.096</td></tr><tr><th>5</th><td>4.0</td><td>33.56</td><td>12.2324</td><td>-8.15295</td><td>14.1125</td><td>16.2294</td><td>-6.94399</td><td>-4.7339</td><td>500.766</td></tr><tr><th>6</th><td>5.0</td><td>33.56</td><td>12.2324</td><td>-8.15295</td><td>14.1125</td><td>16.2294</td><td>-6.93382</td><td>-4.61158</td><td>500.515</td></tr><tr><th>7</th><td>6.0</td><td>33.56</td><td>12.2324</td><td>-8.15295</td><td>14.1125</td><td>16.2294</td><td>-6.9258</td><td>-4.57281</td><td>500.426</td></tr><tr><th>8</th><td>7.0</td><td>33.56</td><td>12.2324</td><td>-8.15295</td><td>14.1125</td><td>16.2294</td><td>-6.91886</td><td>-4.49671</td><td>500.269</td></tr><tr><th>9</th><td>8.0</td><td>33.56</td><td>12.2324</td><td>-8.15295</td><td>14.1125</td><td>16.2294</td><td>-6.91341</td><td>-4.48331</td><td>500.233</td></tr><tr><th>10</th><td>9.0</td><td>33.56</td><td>12.2324</td><td>-8.15295</td><td>14.1125</td><td>16.2294</td><td>-6.91089</td><td>-4.42383</td><td>500.115</td></tr><tr><th>11</th><td>10.0</td><td>33.56</td><td>12.2324</td><td>-8.15295</td><td>14.1125</td><td>16.2294</td><td>-6.91082</td><td>-4.39376</td><td>500.058</td></tr></tbody></table></div>"
      ],
      "text/latex": [
       "\\begin{tabular}{r|cccccccccc}\n",
       "\t& β & p\\_DA & p\\_15 & p\\_ID & q\\_FC & q\\_DA & q\\_15\\_neg & q\\_15\\_pos & R\\_mean & \\\\\n",
       "\t\\hline\n",
       "\t& Float64 & Float64 & Float64 & Float64 & Float64 & Float64 & Float64 & Float64 & Float64 & \\\\\n",
       "\t\\hline\n",
       "\t1 & 0.0 & 33.56 & 12.2324 & -8.15295 & 14.1125 & 16.2294 & -16.2294 & -16.2294 & 540.197 & $\\dots$ \\\\\n",
       "\t2 & 1.0 & 33.56 & 12.2324 & -8.15295 & 14.1125 & 16.2294 & -7.15872 & -5.49267 & 502.614 & $\\dots$ \\\\\n",
       "\t3 & 2.0 & 33.56 & 12.2324 & -8.15295 & 14.1125 & 16.2294 & -7.01732 & -5.12226 & 501.642 & $\\dots$ \\\\\n",
       "\t4 & 3.0 & 33.56 & 12.2324 & -8.15295 & 14.1125 & 16.2294 & -6.96728 & -4.88425 & 501.096 & $\\dots$ \\\\\n",
       "\t5 & 4.0 & 33.56 & 12.2324 & -8.15295 & 14.1125 & 16.2294 & -6.94399 & -4.7339 & 500.766 & $\\dots$ \\\\\n",
       "\t6 & 5.0 & 33.56 & 12.2324 & -8.15295 & 14.1125 & 16.2294 & -6.93382 & -4.61158 & 500.515 & $\\dots$ \\\\\n",
       "\t7 & 6.0 & 33.56 & 12.2324 & -8.15295 & 14.1125 & 16.2294 & -6.9258 & -4.57281 & 500.426 & $\\dots$ \\\\\n",
       "\t8 & 7.0 & 33.56 & 12.2324 & -8.15295 & 14.1125 & 16.2294 & -6.91886 & -4.49671 & 500.269 & $\\dots$ \\\\\n",
       "\t9 & 8.0 & 33.56 & 12.2324 & -8.15295 & 14.1125 & 16.2294 & -6.91341 & -4.48331 & 500.233 & $\\dots$ \\\\\n",
       "\t10 & 9.0 & 33.56 & 12.2324 & -8.15295 & 14.1125 & 16.2294 & -6.91089 & -4.42383 & 500.115 & $\\dots$ \\\\\n",
       "\t11 & 10.0 & 33.56 & 12.2324 & -8.15295 & 14.1125 & 16.2294 & -6.91082 & -4.39376 & 500.058 & $\\dots$ \\\\\n",
       "\\end{tabular}\n"
      ],
      "text/plain": [
       "\u001b[1m11×11 DataFrame\u001b[0m\n",
       "\u001b[1m Row \u001b[0m│\u001b[1m β       \u001b[0m\u001b[1m p_DA    \u001b[0m\u001b[1m p_15    \u001b[0m\u001b[1m p_ID     \u001b[0m\u001b[1m q_FC    \u001b[0m\u001b[1m q_DA    \u001b[0m\u001b[1m q_15_neg  \u001b[0m\u001b[1m q_15_\u001b[0m ⋯\n",
       "\u001b[1m     \u001b[0m│\u001b[90m Float64 \u001b[0m\u001b[90m Float64 \u001b[0m\u001b[90m Float64 \u001b[0m\u001b[90m Float64  \u001b[0m\u001b[90m Float64 \u001b[0m\u001b[90m Float64 \u001b[0m\u001b[90m Float64   \u001b[0m\u001b[90m Float\u001b[0m ⋯\n",
       "─────┼──────────────────────────────────────────────────────────────────────────\n",
       "   1 │     0.0    33.56  12.2324  -8.15295  14.1125  16.2294  -16.2294   -16.2 ⋯\n",
       "   2 │     1.0    33.56  12.2324  -8.15295  14.1125  16.2294   -7.15872   -5.4\n",
       "   3 │     2.0    33.56  12.2324  -8.15295  14.1125  16.2294   -7.01732   -5.1\n",
       "   4 │     3.0    33.56  12.2324  -8.15295  14.1125  16.2294   -6.96728   -4.8\n",
       "   5 │     4.0    33.56  12.2324  -8.15295  14.1125  16.2294   -6.94399   -4.7 ⋯\n",
       "   6 │     5.0    33.56  12.2324  -8.15295  14.1125  16.2294   -6.93382   -4.6\n",
       "   7 │     6.0    33.56  12.2324  -8.15295  14.1125  16.2294   -6.9258    -4.5\n",
       "   8 │     7.0    33.56  12.2324  -8.15295  14.1125  16.2294   -6.91886   -4.4\n",
       "   9 │     8.0    33.56  12.2324  -8.15295  14.1125  16.2294   -6.91341   -4.4 ⋯\n",
       "  10 │     9.0    33.56  12.2324  -8.15295  14.1125  16.2294   -6.91089   -4.4\n",
       "  11 │    10.0    33.56  12.2324  -8.15295  14.1125  16.2294   -6.91082   -4.3\n",
       "\u001b[36m                                                               4 columns omitted\u001b[0m"
      ]
     },
     "execution_count": 123,
     "metadata": {},
     "output_type": "execute_result"
    }
   ],
   "source": [
    "result"
   ]
  }
 ],
 "metadata": {
  "kernelspec": {
   "display_name": "Julia 1.6.3",
   "language": "julia",
   "name": "julia-1.6"
  },
  "language_info": {
   "file_extension": ".jl",
   "mimetype": "application/julia",
   "name": "julia",
   "version": "1.6.3"
  }
 },
 "nbformat": 4,
 "nbformat_minor": 4
}
